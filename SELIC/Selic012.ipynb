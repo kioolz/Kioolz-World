{
 "metadata": {
  "language_info": {
   "codemirror_mode": {
    "name": "ipython",
    "version": 3
   },
   "file_extension": ".py",
   "mimetype": "text/x-python",
   "name": "python",
   "nbconvert_exporter": "python",
   "pygments_lexer": "ipython3",
   "version": 3
  },
  "orig_nbformat": 2
 },
 "nbformat": 4,
 "nbformat_minor": 2,
 "cells": [
  {
   "cell_type": "code",
   "execution_count": null,
   "metadata": {},
   "outputs": [],
   "source": [
    "# -*- coding: utf-8 -*-\n",
    "\"\"\"\n",
    "Created on Sat Oct 12 01:33:53 2019\n",
    "\n",
    "@author: Caio\n",
    "\"\"\"\n",
    "\n",
    "#Taxa Selic\n",
    "taxaselic=(5.5/36500) #  ( 5.5/100 ) 365 para transformar de ano para dia\n",
    "\n",
    "\n",
    "#Tabela regressiva do IR\n",
    "IR1=22.5/100\n",
    "IR2=20/100\n",
    "IR3=17.5/100\n",
    "IR4=15/100\n",
    "IOF=1\n",
    "\n",
    "Valoraplicado=float(input('Insira o valor aplicado'))                    \n",
    "tempoaplicadoemdias=int(input('Insira o número de dias que o valor ficou aplicado'))\n",
    "\n",
    "\n",
    "\n",
    "\n",
    "#Estrutura condicional para estabelecer o cálculo do IR \n",
    "#para os dias que o valor ficou rendendo na SELIC\n",
    "if ((tempoaplicadoemdias)<180):\n",
    "    valorfinal = Valoraplicado + (Valoraplicado * tempoaplicadoemdias * IR1 * taxaselic)\n",
    "    print(valorfinal)\n",
    "if ((tempoaplicadoemdias)>180 and (tempoaplicadoemdias)<360):\n",
    "    valorfinal = Valoraplicado + (Valoraplicado * tempoaplicadoemdias * IR2 * taxaselic)\n",
    "    print(valorfinal)\n",
    "if ((tempoaplicadoemdias)>180 and (tempoaplicadoemdias)<720):\n",
    "    valorfinal = Valoraplicado + (Valoraplicado * tempoaplicadoemdias * IR3 * taxaselic)\n",
    "    print(valorfinal)\n",
    "if ((tempoaplicadoemdias)>(720)):\n",
    "    valorfinal = Valoraplicado + (Valoraplicado * tempoaplicadoemdias * IR4 * taxaselic)\n",
    "    print(valorfinal)"
   ]
  }
 ]
}