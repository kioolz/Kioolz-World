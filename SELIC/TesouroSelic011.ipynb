{
 "metadata": {
  "language_info": {
   "codemirror_mode": {
    "name": "ipython",
    "version": 3
   },
   "file_extension": ".py",
   "mimetype": "text/x-python",
   "name": "python",
   "nbconvert_exporter": "python",
   "pygments_lexer": "ipython3",
   "version": 3
  },
  "orig_nbformat": 2
 },
 "nbformat": 4,
 "nbformat_minor": 2,
 "cells": [
  {
   "cell_type": "code",
   "execution_count": null,
   "metadata": {},
   "outputs": [],
   "source": [
    "# -*- coding: utf-8 -*-\n",
    "\"\"\"\n",
    "Created on Sat Oct 19 20:59:00 2019\n",
    "\n",
    "@author: Caio\n",
    "\"\"\"\n",
    "\n",
    "# Importando as biblitoecas necessárias\n",
    "\n",
    "import pandas as pd\n",
    "import numpy as np\n",
    "import matplotlib as plt\n",
    "\n",
    "from pandas import DataFrame,Series\n",
    "from datetime import datetime\n",
    "\n",
    "# Bom, eu fiz 2 aportes no tesouro SELIC. \n",
    "# O objetivo deste código é preencher um dataframe com uma coluna de DateTimes \n",
    "#para efetuar uma operação de rendimento líquido deste tesouro\n",
    "# Onde a partir desses datetimes diários, eu preencha colunas de um dataframe com os rendimentos associados aos aportes\n",
    "# E outra lista associando as datas das compras aos aportes\n",
    "\n",
    "# ---- Variáveis ---- \n",
    "\n",
    "# Criei um range de datas do dia do meu primeiro aporte até o último dia que vence este tesouro SELIC\n",
    "\n",
    "# Inseri uma lista com as datas dos aportes\n",
    "datasdecompra = ['21/08/2019', '02/09/2019']\n",
    "#Uma lista com os valores dos aportes.\n",
    "valoresdosaportes = [4971.52, 2071.47]\n",
    "#Taxa Selic\n",
    "taxaselic=(5.5/36500) #  ( 5.5/100 ) 365 para transformar de ano para dia\n",
    "# Com isso, posso começar as operações de rendimento desses valores.\n",
    "\n",
    "IR1=22.5/100\n",
    "IR2=20/100\n",
    "IR3=17.5/100\n",
    "IR4=15/100\n",
    "\n",
    "\n",
    "#O dataframe com as datas como uma coluna \n",
    "df = pd.DataFrame(dates)\n",
    "df\n",
    "# While Datetime é diferente '01/03/2025' , execute\n",
    "\n"
   ]
  }
 ]
}