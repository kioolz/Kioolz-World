{
 "metadata": {
  "language_info": {
   "codemirror_mode": {
    "name": "ipython",
    "version": 3
   },
   "file_extension": ".py",
   "mimetype": "text/x-python",
   "name": "python",
   "nbconvert_exporter": "python",
   "pygments_lexer": "ipython3",
   "version": "3.7.4-final"
  },
  "orig_nbformat": 2,
  "kernelspec": {
   "name": "python3",
   "display_name": "Python 3",
   "language": "python"
  }
 },
 "nbformat": 4,
 "nbformat_minor": 2,
 "cells": [
  {
   "cell_type": "code",
   "execution_count": 1,
   "metadata": {},
   "outputs": [],
   "source": [
    "#Importando a biblioteca Pandas e o registro do tempo para o Python\n",
    "\n",
    "import pandas as pd\n",
    "from datetime import date\n",
    "from pandas import DataFrame, Series\n",
    "import matplotlib.pyplot as plt"
   ]
  },
  {
   "cell_type": "code",
   "execution_count": 2,
   "metadata": {},
   "outputs": [
    {
     "output_type": "execute_result",
     "data": {
      "text/plain": [
       "DatetimeIndex(['2019-09-21', '2019-09-22', '2019-09-23', '2019-09-24',\n",
       "               '2019-09-25'],\n",
       "              dtype='datetime64[ns]', freq='D')"
      ]
     },
     "metadata": {},
     "execution_count": 2
    }
   ],
   "source": [
    "\n",
    "# Criando uma série no pandas que represente a indexação das linhas como valores temporais\n",
    "# Por exemplo, datas do calendário do ano.\n",
    "dates = pd.date_range('2019-09-21', '2019-09-25')\n",
    "dates\n"
   ]
  },
  {
   "cell_type": "code",
   "execution_count": 4,
   "metadata": {},
   "outputs": [
    {
     "output_type": "execute_result",
     "data": {
      "text/plain": [
       "2019-09-21    6986.16\n",
       "2019-09-22    6986.16\n",
       "2019-09-23    6986.16\n",
       "2019-09-24    6986.16\n",
       "2019-09-25    6986.16\n",
       "Freq: D, dtype: float64"
      ]
     },
     "metadata": {},
     "execution_count": 4
    }
   ],
   "source": [
    "\n",
    "#Criando um dataframe de uma linha e uma coluna, ou uma série. \n",
    "#renomeando as linhas ou índices i da série ou matriz ou dataframe (df) através do comando 'index'\n",
    "# Acrescentando a série de datas a Série numérica criada. \n",
    "#E Agora vamos inserir variáveis reais ao problema\n",
    "#inserindo a variável Montante inicial como uma série numérica\n",
    "MontanteInicial= Series([6986.16, 6986.16, 6986.16, 6986.16, 6986.16], index = dates)\n",
    "MontanteInicial"
   ]
  },
  {
   "cell_type": "code",
   "execution_count": 5,
   "metadata": {},
   "outputs": [
    {
     "output_type": "execute_result",
     "data": {
      "text/plain": [
       "2019-09-21    6990\n",
       "2019-09-22    6991\n",
       "2019-09-23    6994\n",
       "2019-09-24    6998\n",
       "2019-09-25    7000\n",
       "Freq: D, dtype: int64"
      ]
     },
     "metadata": {},
     "execution_count": 5
    }
   ],
   "source": [
    "#Repetindo o processo para os valores ganhos diariamente em relação ao dia anterior.\n",
    "#Podemos construir uma tabela de valores que apresente o lucro diário em relação ao dia anterior\n",
    "MontanteFinal = Series([6990, 6991, 6994, 6998, 7000], index = dates)\n",
    "MontanteFinal"
   ]
  },
  {
   "cell_type": "code",
   "execution_count": 6,
   "metadata": {},
   "outputs": [
    {
     "output_type": "execute_result",
     "data": {
      "text/plain": [
       "            Montante Final  Montante Inicial Taxa Selic  Lucro Total\n",
       "2019-09-21            6990           6986.16       5.5%         3.84\n",
       "2019-09-22            6991           6986.16       5.5%         4.84\n",
       "2019-09-23            6994           6986.16       5.5%         7.84\n",
       "2019-09-24            6998           6986.16       5.5%        11.84\n",
       "2019-09-25            7000           6986.16       5.5%        13.84"
      ],
      "text/html": "<div>\n<style scoped>\n    .dataframe tbody tr th:only-of-type {\n        vertical-align: middle;\n    }\n\n    .dataframe tbody tr th {\n        vertical-align: top;\n    }\n\n    .dataframe thead th {\n        text-align: right;\n    }\n</style>\n<table border=\"1\" class=\"dataframe\">\n  <thead>\n    <tr style=\"text-align: right;\">\n      <th></th>\n      <th>Montante Final</th>\n      <th>Montante Inicial</th>\n      <th>Taxa Selic</th>\n      <th>Lucro Total</th>\n    </tr>\n  </thead>\n  <tbody>\n    <tr>\n      <td>2019-09-21</td>\n      <td>6990</td>\n      <td>6986.16</td>\n      <td>5.5%</td>\n      <td>3.84</td>\n    </tr>\n    <tr>\n      <td>2019-09-22</td>\n      <td>6991</td>\n      <td>6986.16</td>\n      <td>5.5%</td>\n      <td>4.84</td>\n    </tr>\n    <tr>\n      <td>2019-09-23</td>\n      <td>6994</td>\n      <td>6986.16</td>\n      <td>5.5%</td>\n      <td>7.84</td>\n    </tr>\n    <tr>\n      <td>2019-09-24</td>\n      <td>6998</td>\n      <td>6986.16</td>\n      <td>5.5%</td>\n      <td>11.84</td>\n    </tr>\n    <tr>\n      <td>2019-09-25</td>\n      <td>7000</td>\n      <td>6986.16</td>\n      <td>5.5%</td>\n      <td>13.84</td>\n    </tr>\n  </tbody>\n</table>\n</div>"
     },
     "metadata": {},
     "execution_count": 6
    }
   ],
   "source": [
    "#Operação de subtração entre as componentes da lista - Criando através da operação, uma lista\n",
    "#que me diz quanto lucrei no total. \n",
    "#Calculando a diferença entre os índices da matriz/Dataframe e plotando a resposta no próprio DF.\n",
    "LucroTotal = MontanteFinal-MontanteInicial\n",
    "LucroTotal\n",
    "    \n",
    "# E com a operação feita, posso associar a tabela o valor da Taxa Selic em cada dia e alterar como conforme a necessidade.\n",
    "TaxaSelic = Series(['5.5%', '5.5%', '5.5%', '5.5%', '5.5%'], index = dates)\n",
    "\n",
    "#Criando um DataFrame que usa como colunas, duas séries que representam numeros aleatórios associado a duas possiveis variáveis.\n",
    "df_temp = DataFrame({'Montante Final': MontanteFinal, 'Montante Inicial': MontanteInicial, 'Taxa Selic': TaxaSelic, 'Lucro Total' : LucroTotal})\n",
    "df_temp"
   ]
  }
 ]
}