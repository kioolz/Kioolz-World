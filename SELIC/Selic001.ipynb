{
 "metadata": {
  "language_info": {
   "codemirror_mode": {
    "name": "ipython",
    "version": 3
   },
   "file_extension": ".py",
   "mimetype": "text/x-python",
   "name": "python",
   "nbconvert_exporter": "python",
   "pygments_lexer": "ipython3",
   "version": "3.7.4-final"
  },
  "orig_nbformat": 2,
  "kernelspec": {
   "name": "python3",
   "display_name": "Python 3",
   "language": "python"
  }
 },
 "nbformat": 4,
 "nbformat_minor": 2,
 "cells": [
  {
   "cell_type": "code",
   "execution_count": 58,
   "metadata": {},
   "outputs": [],
   "source": [
    "import pandas as pd\n",
    "import numpy as np"
   ]
  },
  {
   "cell_type": "code",
   "execution_count": 59,
   "metadata": {},
   "outputs": [
    {
     "output_type": "stream",
     "name": "stdout",
     "text": [
      "Este é o valor da taxa selic inserida : 25.0 % ao ano\nEste seria o valor da taxa selic 2.1% ao mes\nE este seria o valor da taxa selic 0.1% ao dia\n"
     ]
    }
   ],
   "source": [
    "# -*- coding: utf-8 -*-\n",
    "\"\"\"\n",
    "Criado em 25/01/2021 pelo usuário\n",
    "@author: Kioolz\n",
    "\"\"\"\n",
    "#Taxa Selic inserida pelo usuário\n",
    "selic = float(input(\"Insira o valor da taxa SELIC\"))\n",
    "print (f'Este é o valor da taxa selic inserida : {selic:.1f} % ao ano' )\n",
    "selicaomes = selic/12  # Variavel para descobrir o valor por mês\n",
    "print (f'Este seria o valor da taxa selic {selicaomes:.1f}% ao mes')\n",
    "selicaodia = selic/365 # // Para descobrir o valor por dia\n",
    "print (f'E este seria o valor da taxa selic {selicaodia:.1f}% ao dia')\n"
   ]
  },
  {
   "cell_type": "code",
   "execution_count": 60,
   "metadata": {},
   "outputs": [
    {
     "output_type": "stream",
     "name": "stdout",
     "text": [
      "Este é o valor do aporte inserido: 500.0 reais\n"
     ]
    }
   ],
   "source": [
    "aporte = float(input(\"Insira o valor do aporte para ser calculado\"))\n",
    "print(f'Este é o valor do aporte inserido: {aporte:.1f} reais')"
   ]
  },
  {
   "cell_type": "code",
   "execution_count": 68,
   "metadata": {},
   "outputs": [
    {
     "output_type": "stream",
     "name": "stdout",
     "text": [
      "Este é o total após 30 dias: 10.4\n10.416666666666668\n"
     ]
    }
   ],
   "source": [
    "RendimentoMensal = aporte*(selicaomes/100)\n",
    "print (f'Este é o total após 30 dias: {RendimentoMensal:.1f}')\n",
    "print  (RendimentoMensal)"
   ]
  },
  {
   "cell_type": "code",
   "execution_count": 73,
   "metadata": {},
   "outputs": [
    {
     "output_type": "stream",
     "name": "stdout",
     "text": [
      "510.4166666666667\n"
     ]
    }
   ],
   "source": [
    "ValorAcumuladoMensal = RendimentoMensal+aporte\n",
    "print(ValorAcumuladoMensal)"
   ]
  },
  {
   "cell_type": "code",
   "execution_count": 69,
   "metadata": {},
   "outputs": [
    {
     "output_type": "stream",
     "name": "stdout",
     "text": [
      "Este é o total após 1 dia\n0.3424657534246575\n"
     ]
    }
   ],
   "source": [
    "print(\"Este é o total após 1 dia\")\n",
    "RendimentoDiário = aporte*(selicaodia/100)\n",
    "print(RendimentoDiário)"
   ]
  },
  {
   "cell_type": "code",
   "execution_count": 71,
   "metadata": {},
   "outputs": [
    {
     "output_type": "execute_result",
     "data": {
      "text/plain": [
       "500.3424657534247"
      ]
     },
     "metadata": {},
     "execution_count": 71
    }
   ],
   "source": [
    "ValorAcumuladoDiario = RendimentoDiário+aporte\n",
    "ValorAcumuladoDiario"
   ]
  },
  {
   "cell_type": "code",
   "execution_count": 87,
   "metadata": {},
   "outputs": [
    {
     "output_type": "execute_result",
     "data": {
      "text/plain": [
       "Empty DataFrame\n",
       "Columns: [Taxa SELIC-META, Aporte, RendimentoMensal, ValorAcumulado]\n",
       "Index: []"
      ],
      "text/html": "<div>\n<style scoped>\n    .dataframe tbody tr th:only-of-type {\n        vertical-align: middle;\n    }\n\n    .dataframe tbody tr th {\n        vertical-align: top;\n    }\n\n    .dataframe thead th {\n        text-align: right;\n    }\n</style>\n<table border=\"1\" class=\"dataframe\">\n  <thead>\n    <tr style=\"text-align: right;\">\n      <th></th>\n      <th>Taxa SELIC-META</th>\n      <th>Aporte</th>\n      <th>RendimentoMensal</th>\n      <th>ValorAcumulado</th>\n    </tr>\n  </thead>\n  <tbody>\n  </tbody>\n</table>\n</div>"
     },
     "metadata": {},
     "execution_count": 87
    }
   ],
   "source": [
    "Colunas = [\"Taxa SELIC-META\", \"Aporte\", \"RendimentoMensal\", \"ValorAcumulado\"]\n",
    "df = pd.DataFrame(columns=Colunas)\n",
    "df"
   ]
  },
  {
   "cell_type": "code",
   "execution_count": 88,
   "metadata": {},
   "outputs": [],
   "source": [
    "DadosInicias = [selic/100, aporte, RendimentoMensal, ValorAcumuladoMensal]"
   ]
  },
  {
   "cell_type": "code",
   "execution_count": 90,
   "metadata": {},
   "outputs": [
    {
     "output_type": "error",
     "ename": "AttributeError",
     "evalue": "'DataFrame' object has no attribute 'list'",
     "traceback": [
      "\u001b[1;31m---------------------------------------------------------------------------\u001b[0m",
      "\u001b[1;31mAttributeError\u001b[0m                            Traceback (most recent call last)",
      "\u001b[1;32m<ipython-input-90-16a5ad7657de>\u001b[0m in \u001b[0;36m<module>\u001b[1;34m\u001b[0m\n\u001b[1;32m----> 1\u001b[1;33m \u001b[0mdf\u001b[0m\u001b[1;33m.\u001b[0m\u001b[0mlist\u001b[0m\u001b[1;33m(\u001b[0m\u001b[0mDadosInicias\u001b[0m\u001b[1;33m)\u001b[0m\u001b[1;33m\u001b[0m\u001b[1;33m\u001b[0m\u001b[0m\n\u001b[0m",
      "\u001b[1;32m~\\Anaconda3\\lib\\site-packages\\pandas\\core\\generic.py\u001b[0m in \u001b[0;36m__getattr__\u001b[1;34m(self, name)\u001b[0m\n\u001b[0;32m   5177\u001b[0m             \u001b[1;32mif\u001b[0m \u001b[0mself\u001b[0m\u001b[1;33m.\u001b[0m\u001b[0m_info_axis\u001b[0m\u001b[1;33m.\u001b[0m\u001b[0m_can_hold_identifiers_and_holds_name\u001b[0m\u001b[1;33m(\u001b[0m\u001b[0mname\u001b[0m\u001b[1;33m)\u001b[0m\u001b[1;33m:\u001b[0m\u001b[1;33m\u001b[0m\u001b[1;33m\u001b[0m\u001b[0m\n\u001b[0;32m   5178\u001b[0m                 \u001b[1;32mreturn\u001b[0m \u001b[0mself\u001b[0m\u001b[1;33m[\u001b[0m\u001b[0mname\u001b[0m\u001b[1;33m]\u001b[0m\u001b[1;33m\u001b[0m\u001b[1;33m\u001b[0m\u001b[0m\n\u001b[1;32m-> 5179\u001b[1;33m             \u001b[1;32mreturn\u001b[0m \u001b[0mobject\u001b[0m\u001b[1;33m.\u001b[0m\u001b[0m__getattribute__\u001b[0m\u001b[1;33m(\u001b[0m\u001b[0mself\u001b[0m\u001b[1;33m,\u001b[0m \u001b[0mname\u001b[0m\u001b[1;33m)\u001b[0m\u001b[1;33m\u001b[0m\u001b[1;33m\u001b[0m\u001b[0m\n\u001b[0m\u001b[0;32m   5180\u001b[0m \u001b[1;33m\u001b[0m\u001b[0m\n\u001b[0;32m   5181\u001b[0m     \u001b[1;32mdef\u001b[0m \u001b[0m__setattr__\u001b[0m\u001b[1;33m(\u001b[0m\u001b[0mself\u001b[0m\u001b[1;33m,\u001b[0m \u001b[0mname\u001b[0m\u001b[1;33m,\u001b[0m \u001b[0mvalue\u001b[0m\u001b[1;33m)\u001b[0m\u001b[1;33m:\u001b[0m\u001b[1;33m\u001b[0m\u001b[1;33m\u001b[0m\u001b[0m\n",
      "\u001b[1;31mAttributeError\u001b[0m: 'DataFrame' object has no attribute 'list'"
     ]
    }
   ],
   "source": [
    "df."
   ]
  },
  {
   "cell_type": "code",
   "execution_count": 80,
   "metadata": {},
   "outputs": [
    {
     "output_type": "stream",
     "name": "stdout",
     "text": [
      "[0.25, 500.0, 10.416666666666668, 510.4166666666667]\n"
     ]
    }
   ],
   "source": [
    "print(DadosInicias)"
   ]
  },
  {
   "cell_type": "code",
   "execution_count": null,
   "metadata": {},
   "outputs": [],
   "source": [
    "\n",
    "\n",
    "\n",
    "\n",
    "\n",
    "\n",
    "\n",
    "taxaselic=(5.5/36500) #  ( 5.5/100 ) 365 para transformar de ano para dia\n",
    "#Tabela regressiva do IR\n",
    "Valoraplicado=float(input('Insira o valor aplicado'))                    \n",
    "tempoaplicadoemdias=int(input('Insira o número de dias que o valor ficou aplicado'))"
   ]
  },
  {
   "cell_type": "code",
   "execution_count": null,
   "metadata": {},
   "outputs": [],
   "source": [
    "#Estrutura condicional para estabelecer o cálculo do IR \n",
    "#para os dias que o valor ficou rendendo na SELIC\n",
    "if ((tempoaplicadoemdias)<180):\n",
    "    valorfinal = Valoraplicado + (Valoraplicado * tempoaplicadoemdias * IR1 * taxaselic)\n",
    "    print(valorfinal)\n",
    "if ((tempoaplicadoemdias)>180 and (tempoaplicadoemdias)<360):\n",
    "    valorfinal = Valoraplicado + (Valoraplicado * tempoaplicadoemdias * IR2 * taxaselic)\n",
    "    print(valorfinal)\n",
    "if ((tempoaplicadoemdias)>180 and (tempoaplicadoemdias)<720):\n",
    "    valorfinal = Valoraplicado + (Valoraplicado * tempoaplicadoemdias * IR3 * taxaselic)\n",
    "    print(valorfinal)\n",
    "if ((tempoaplicadoemdias)>(720)):\n",
    "    valorfinal = Valoraplicado + (Valoraplicado * tempoaplicadoemdias * IR4 * taxaselic)\n",
    "    print(valorfinal)"
   ]
  },
  {
   "cell_type": "code",
   "execution_count": null,
   "metadata": {},
   "outputs": [],
   "source": [
    "IR1=22.5/100\n",
    "IR2=20/100\n",
    "IR3=17.5/100\n",
    "IR4=15/100\n",
    "IOF=1"
   ]
  }
 ]
}