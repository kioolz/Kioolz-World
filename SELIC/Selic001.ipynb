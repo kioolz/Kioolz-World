{
 "metadata": {
  "language_info": {
   "codemirror_mode": {
    "name": "ipython",
    "version": 3
   },
   "file_extension": ".py",
   "mimetype": "text/x-python",
   "name": "python",
   "nbconvert_exporter": "python",
   "pygments_lexer": "ipython3",
   "version": "3.7.4-final"
  },
  "orig_nbformat": 2,
  "kernelspec": {
   "name": "python3",
   "display_name": "Python 3",
   "language": "python"
  }
 },
 "nbformat": 4,
 "nbformat_minor": 2,
 "cells": [
  {
   "cell_type": "code",
   "execution_count": 2,
   "metadata": {},
   "outputs": [],
   "source": [
    "import pandas as pd\n",
    "import numpy as np"
   ]
  },
  {
   "cell_type": "code",
   "execution_count": 3,
   "metadata": {},
   "outputs": [
    {
     "output_type": "stream",
     "name": "stdout",
     "text": [
      "Este é o valor da taxa selic inserida : 45.0 % ao ano\nEste seria o valor da taxa selic 3.8% ao mes\nE este seria o valor da taxa selic 0.1% ao dia\n"
     ]
    }
   ],
   "source": [
    "# -*- coding: utf-8 -*-\n",
    "\"\"\"\n",
    "Criado em 25/01/2021 pelo usuário\n",
    "@author: Kioolz\n",
    "\"\"\"\n",
    "#Taxa Selic inserida pelo usuário\n",
    "selic = float(input(\"Insira o valor da taxa SELIC\"))\n",
    "print (f'Este é o valor da taxa selic inserida : {selic:.1f} % ao ano' )\n",
    "selicaomes = selic/12  # Variavel para descobrir o valor por mês\n",
    "print (f'Este seria o valor da taxa selic {selicaomes:.1f}% ao mes')\n",
    "selicaodia = selic/365 # // Para descobrir o valor por dia\n",
    "print (f'E este seria o valor da taxa selic {selicaodia:.1f}% ao dia')\n"
   ]
  },
  {
   "cell_type": "code",
   "execution_count": 4,
   "metadata": {},
   "outputs": [
    {
     "output_type": "stream",
     "name": "stdout",
     "text": [
      "Este é o valor do aporte inserido: 1000.0 reais\n"
     ]
    }
   ],
   "source": [
    "aporte = float(input(\"Insira o valor do aporte para ser calculado\"))\n",
    "print(f'Este é o valor do aporte inserido: {aporte:.1f} reais')"
   ]
  },
  {
   "cell_type": "code",
   "execution_count": 5,
   "metadata": {},
   "outputs": [
    {
     "output_type": "stream",
     "name": "stdout",
     "text": [
      "Este é o total após 30 dias: 37.5\n37.5\n"
     ]
    }
   ],
   "source": [
    "RendimentoMensal = aporte*(selicaomes/100)\n",
    "print (f'Este é o total após 30 dias: {RendimentoMensal:.1f}')\n",
    "print  (RendimentoMensal)"
   ]
  },
  {
   "cell_type": "code",
   "execution_count": 6,
   "metadata": {},
   "outputs": [
    {
     "output_type": "stream",
     "name": "stdout",
     "text": [
      "1037.5\n"
     ]
    }
   ],
   "source": [
    "ValorAcumuladoMensal = RendimentoMensal+aporte\n",
    "print(ValorAcumuladoMensal)"
   ]
  },
  {
   "cell_type": "code",
   "execution_count": 7,
   "metadata": {},
   "outputs": [
    {
     "output_type": "stream",
     "name": "stdout",
     "text": [
      "Este é o total após 1 dia\n1.2328767123287672\n"
     ]
    }
   ],
   "source": [
    "print(\"Este é o total após 1 dia\")\n",
    "RendimentoDiário = aporte*(selicaodia/100)\n",
    "print(RendimentoDiário)"
   ]
  },
  {
   "cell_type": "code",
   "execution_count": 8,
   "metadata": {},
   "outputs": [
    {
     "output_type": "execute_result",
     "data": {
      "text/plain": [
       "1001.2328767123288"
      ]
     },
     "metadata": {},
     "execution_count": 8
    }
   ],
   "source": [
    "ValorAcumuladoDiario = RendimentoDiário+aporte\n",
    "ValorAcumuladoDiario"
   ]
  },
  {
   "cell_type": "code",
   "execution_count": 14,
   "metadata": {},
   "outputs": [
    {
     "output_type": "execute_result",
     "data": {
      "text/plain": [
       "Empty DataFrame\n",
       "Columns: [A, B, C, D]\n",
       "Index: []"
      ],
      "text/html": "<div>\n<style scoped>\n    .dataframe tbody tr th:only-of-type {\n        vertical-align: middle;\n    }\n\n    .dataframe tbody tr th {\n        vertical-align: top;\n    }\n\n    .dataframe thead th {\n        text-align: right;\n    }\n</style>\n<table border=\"1\" class=\"dataframe\">\n  <thead>\n    <tr style=\"text-align: right;\">\n      <th></th>\n      <th>A</th>\n      <th>B</th>\n      <th>C</th>\n      <th>D</th>\n    </tr>\n  </thead>\n  <tbody>\n  </tbody>\n</table>\n</div>"
     },
     "metadata": {},
     "execution_count": 14
    }
   ],
   "source": [
    "Colunas = [\"A\", \"B\", \"C\", \"D\"]\n",
    "df = pd.DataFrame(columns=Colunas)\n",
    "df"
   ]
  },
  {
   "cell_type": "code",
   "execution_count": 15,
   "metadata": {},
   "outputs": [],
   "source": [
    "DadosInicias = [selic/100, aporte, RendimentoMensal, ValorAcumuladoMensal]"
   ]
  },
  {
   "cell_type": "code",
   "execution_count": 16,
   "metadata": {},
   "outputs": [
    {
     "output_type": "stream",
     "name": "stdout",
     "text": [
      "[0.45, 1000.0, 37.5, 1037.5]\n"
     ]
    }
   ],
   "source": [
    "print(DadosInicias)"
   ]
  },
  {
   "cell_type": "code",
   "execution_count": 17,
   "metadata": {},
   "outputs": [
    {
     "output_type": "execute_result",
     "data": {
      "text/plain": [
       "     A    B    C    D        0\n",
       "0  NaN  NaN  NaN  NaN     0.45\n",
       "1  NaN  NaN  NaN  NaN  1000.00\n",
       "2  NaN  NaN  NaN  NaN    37.50\n",
       "3  NaN  NaN  NaN  NaN  1037.50"
      ],
      "text/html": "<div>\n<style scoped>\n    .dataframe tbody tr th:only-of-type {\n        vertical-align: middle;\n    }\n\n    .dataframe tbody tr th {\n        vertical-align: top;\n    }\n\n    .dataframe thead th {\n        text-align: right;\n    }\n</style>\n<table border=\"1\" class=\"dataframe\">\n  <thead>\n    <tr style=\"text-align: right;\">\n      <th></th>\n      <th>A</th>\n      <th>B</th>\n      <th>C</th>\n      <th>D</th>\n      <th>0</th>\n    </tr>\n  </thead>\n  <tbody>\n    <tr>\n      <td>0</td>\n      <td>NaN</td>\n      <td>NaN</td>\n      <td>NaN</td>\n      <td>NaN</td>\n      <td>0.45</td>\n    </tr>\n    <tr>\n      <td>1</td>\n      <td>NaN</td>\n      <td>NaN</td>\n      <td>NaN</td>\n      <td>NaN</td>\n      <td>1000.00</td>\n    </tr>\n    <tr>\n      <td>2</td>\n      <td>NaN</td>\n      <td>NaN</td>\n      <td>NaN</td>\n      <td>NaN</td>\n      <td>37.50</td>\n    </tr>\n    <tr>\n      <td>3</td>\n      <td>NaN</td>\n      <td>NaN</td>\n      <td>NaN</td>\n      <td>NaN</td>\n      <td>1037.50</td>\n    </tr>\n  </tbody>\n</table>\n</div>"
     },
     "metadata": {},
     "execution_count": 17
    }
   ],
   "source": [
    "df.append(DadosInicias)"
   ]
  },
  {
   "cell_type": "code",
   "execution_count": null,
   "metadata": {},
   "outputs": [],
   "source": []
  },
  {
   "cell_type": "code",
   "execution_count": null,
   "metadata": {},
   "outputs": [],
   "source": []
  },
  {
   "cell_type": "code",
   "execution_count": null,
   "metadata": {},
   "outputs": [],
   "source": []
  },
  {
   "cell_type": "code",
   "execution_count": null,
   "metadata": {},
   "outputs": [],
   "source": []
  },
  {
   "cell_type": "code",
   "execution_count": null,
   "metadata": {},
   "outputs": [],
   "source": [
    "\n",
    "#------------------------------------------------------------------------------------------------------------------------------------------------------------------------------------------------------------------------------------------------------#\n",
    "\n",
    "\n",
    "\n",
    "\n",
    "\n",
    "taxaselic=(5.5/36500) #  ( 5.5/100 ) 365 para transformar de ano para dia\n",
    "#Tabela regressiva do IR\n",
    "Valoraplicado=float(input('Insira o valor aplicado'))                    \n",
    "tempoaplicadoemdias=int(input('Insira o número de dias que o valor ficou aplicado'))"
   ]
  },
  {
   "cell_type": "code",
   "execution_count": null,
   "metadata": {},
   "outputs": [],
   "source": [
    "#Estrutura condicional para estabelecer o cálculo do IR \n",
    "#para os dias que o valor ficou rendendo na SELIC\n",
    "if ((tempoaplicadoemdias)<180):\n",
    "    valorfinal = Valoraplicado + (Valoraplicado * tempoaplicadoemdias * IR1 * taxaselic)\n",
    "    print(valorfinal)\n",
    "if ((tempoaplicadoemdias)>180 and (tempoaplicadoemdias)<360):\n",
    "    valorfinal = Valoraplicado + (Valoraplicado * tempoaplicadoemdias * IR2 * taxaselic)\n",
    "    print(valorfinal)\n",
    "if ((tempoaplicadoemdias)>180 and (tempoaplicadoemdias)<720):\n",
    "    valorfinal = Valoraplicado + (Valoraplicado * tempoaplicadoemdias * IR3 * taxaselic)\n",
    "    print(valorfinal)\n",
    "if ((tempoaplicadoemdias)>(720)):\n",
    "    valorfinal = Valoraplicado + (Valoraplicado * tempoaplicadoemdias * IR4 * taxaselic)\n",
    "    print(valorfinal)"
   ]
  },
  {
   "cell_type": "code",
   "execution_count": null,
   "metadata": {},
   "outputs": [],
   "source": [
    "IR1=22.5/100\n",
    "IR2=20/100\n",
    "IR3=17.5/100\n",
    "IR4=15/100\n",
    "IOF=1"
   ]
  }
 ]
}