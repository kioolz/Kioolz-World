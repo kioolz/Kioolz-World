{
 "metadata": {
  "language_info": {
   "codemirror_mode": {
    "name": "ipython",
    "version": 3
   },
   "file_extension": ".py",
   "mimetype": "text/x-python",
   "name": "python",
   "nbconvert_exporter": "python",
   "pygments_lexer": "ipython3",
   "version": "3.7.4-final"
  },
  "orig_nbformat": 2,
  "kernelspec": {
   "name": "python3",
   "display_name": "Python 3",
   "language": "python"
  }
 },
 "nbformat": 4,
 "nbformat_minor": 2,
 "cells": [
  {
   "cell_type": "code",
   "execution_count": 1,
   "metadata": {},
   "outputs": [],
   "source": [
    "import pandas as pd\n",
    "import numpy as np"
   ]
  },
  {
   "cell_type": "code",
   "execution_count": 2,
   "metadata": {},
   "outputs": [
    {
     "output_type": "stream",
     "name": "stdout",
     "text": [
      "Este é o valor da taxa selic inserida : 6.0 % ao ano\n",
      "Este seria o valor da taxa selic 0.5% ao mes\n",
      "E este seria o valor da taxa selic 0.0% ao dia\n",
      "Este é o valor do aporte inserido: 100000.0 reais\n"
     ]
    }
   ],
   "source": [
    "# -*- coding: utf-8 -*-\n",
    "\"\"\"\n",
    "Criado em 25/01/2021 pelo usuário\n",
    "@author: Kioolz\n",
    "\"\"\"\n",
    "#Taxa Selic inserida pelo usuário\n",
    "selic = float(input(\"Insira o valor da taxa SELIC\"))\n",
    "print (f'Este é o valor da taxa selic inserida : {selic:.1f} % ao ano' )\n",
    "selicaomes = selic/12  # Variavel para descobrir o valor por mês\n",
    "print (f'Este seria o valor da taxa selic {selicaomes:.1f}% ao mes')\n",
    "selicaodia = selic/365 # // Para descobrir o valor por dia\n",
    "print (f'E este seria o valor da taxa selic {selicaodia:.1f}% ao dia')\n",
    "aporte = float(input(\"Insira o valor do aporte para ser calculado\"))\n",
    "print(f'Este é o valor do aporte inserido: {aporte:.1f} reais')\n"
   ]
  },
  {
   "cell_type": "code",
   "execution_count": 3,
   "metadata": {},
   "outputs": [
    {
     "output_type": "stream",
     "name": "stdout",
     "text": [
      "Este é o total após 30 dias: 500.0\n"
     ]
    }
   ],
   "source": [
    "RendimentoMensal = aporte*(selicaomes/100)\n",
    "print (f'Este é o total após 30 dias: {RendimentoMensal:.1f}')"
   ]
  },
  {
   "cell_type": "code",
   "execution_count": 4,
   "metadata": {},
   "outputs": [
    {
     "output_type": "stream",
     "name": "stdout",
     "text": [
      "100500.0\n"
     ]
    }
   ],
   "source": [
    "ValorAcumuladoMensal = RendimentoMensal+aporte\n",
    "print(ValorAcumuladoMensal)"
   ]
  },
  {
   "cell_type": "code",
   "execution_count": 5,
   "metadata": {},
   "outputs": [
    {
     "output_type": "stream",
     "name": "stdout",
     "text": [
      "Este é o total após 1 dia\n16.43835616438356\n"
     ]
    }
   ],
   "source": [
    "print(\"Este é o total após 1 dia\")\n",
    "RendimentoDiário = aporte*(selicaodia/100)\n",
    "print(RendimentoDiário)"
   ]
  },
  {
   "cell_type": "code",
   "execution_count": 6,
   "metadata": {},
   "outputs": [
    {
     "output_type": "execute_result",
     "data": {
      "text/plain": [
       "100016.43835616438"
      ]
     },
     "metadata": {},
     "execution_count": 6
    }
   ],
   "source": [
    "ValorAcumuladoDiario = RendimentoDiário+aporte\n",
    "ValorAcumuladoDiario"
   ]
  },
  {
   "cell_type": "code",
   "execution_count": 7,
   "metadata": {},
   "outputs": [
    {
     "output_type": "execute_result",
     "data": {
      "text/plain": [
       "Empty DataFrame\n",
       "Columns: [Rendimento Anual, Aporte Inicial, Rendimento Mensal, ValorAcumuladoMensal]\n",
       "Index: []"
      ],
      "text/html": "<div>\n<style scoped>\n    .dataframe tbody tr th:only-of-type {\n        vertical-align: middle;\n    }\n\n    .dataframe tbody tr th {\n        vertical-align: top;\n    }\n\n    .dataframe thead th {\n        text-align: right;\n    }\n</style>\n<table border=\"1\" class=\"dataframe\">\n  <thead>\n    <tr style=\"text-align: right;\">\n      <th></th>\n      <th>Rendimento Anual</th>\n      <th>Aporte Inicial</th>\n      <th>Rendimento Mensal</th>\n      <th>ValorAcumuladoMensal</th>\n    </tr>\n  </thead>\n  <tbody>\n  </tbody>\n</table>\n</div>"
     },
     "metadata": {},
     "execution_count": 7
    }
   ],
   "source": [
    "Colunas = [\"Rendimento Anual\", \"Aporte Inicial\", \"Rendimento Mensal\", \"ValorAcumuladoMensal\"]\n",
    "df = pd.DataFrame(columns=Colunas)\n",
    "df"
   ]
  },
  {
   "cell_type": "code",
   "execution_count": 9,
   "metadata": {},
   "outputs": [
    {
     "output_type": "stream",
     "name": "stdout",
     "text": [
      "[0.06, 100000.0, 16.43835616438356, 100016.43835616438]\n"
     ]
    }
   ],
   "source": [
    "X = [selic/100, aporte, RendimentoDiário, ValorAcumuladoDiario]\n",
    "print(X)"
   ]
  },
  {
   "cell_type": "code",
   "execution_count": 10,
   "metadata": {},
   "outputs": [
    {
     "output_type": "execute_result",
     "data": {
      "text/plain": [
       "Empty DataFrame\n",
       "Columns: [Rendimento Anual, Aporte Inicial, Rendimento Mensal, ValorAcumuladoMensal]\n",
       "Index: []"
      ],
      "text/html": "<div>\n<style scoped>\n    .dataframe tbody tr th:only-of-type {\n        vertical-align: middle;\n    }\n\n    .dataframe tbody tr th {\n        vertical-align: top;\n    }\n\n    .dataframe thead th {\n        text-align: right;\n    }\n</style>\n<table border=\"1\" class=\"dataframe\">\n  <thead>\n    <tr style=\"text-align: right;\">\n      <th></th>\n      <th>Rendimento Anual</th>\n      <th>Aporte Inicial</th>\n      <th>Rendimento Mensal</th>\n      <th>ValorAcumuladoMensal</th>\n    </tr>\n  </thead>\n  <tbody>\n  </tbody>\n</table>\n</div>"
     },
     "metadata": {},
     "execution_count": 10
    }
   ],
   "source": [
    "df"
   ]
  },
  {
   "cell_type": "code",
   "execution_count": 11,
   "metadata": {},
   "outputs": [],
   "source": [
    "to_append = X"
   ]
  },
  {
   "cell_type": "code",
   "execution_count": 12,
   "metadata": {},
   "outputs": [
    {
     "output_type": "execute_result",
     "data": {
      "text/plain": [
       "   Rendimento Anual  Aporte Inicial  Rendimento Mensal  ValorAcumuladoMensal\n",
       "0              0.06        100000.0          16.438356         100016.438356"
      ],
      "text/html": "<div>\n<style scoped>\n    .dataframe tbody tr th:only-of-type {\n        vertical-align: middle;\n    }\n\n    .dataframe tbody tr th {\n        vertical-align: top;\n    }\n\n    .dataframe thead th {\n        text-align: right;\n    }\n</style>\n<table border=\"1\" class=\"dataframe\">\n  <thead>\n    <tr style=\"text-align: right;\">\n      <th></th>\n      <th>Rendimento Anual</th>\n      <th>Aporte Inicial</th>\n      <th>Rendimento Mensal</th>\n      <th>ValorAcumuladoMensal</th>\n    </tr>\n  </thead>\n  <tbody>\n    <tr>\n      <td>0</td>\n      <td>0.06</td>\n      <td>100000.0</td>\n      <td>16.438356</td>\n      <td>100016.438356</td>\n    </tr>\n  </tbody>\n</table>\n</div>"
     },
     "metadata": {},
     "execution_count": 12
    }
   ],
   "source": [
    "df_lenght = len(df)\n",
    "df.loc[df_lenght] = to_append\n",
    "df"
   ]
  },
  {
   "cell_type": "code",
   "execution_count": 13,
   "metadata": {},
   "outputs": [],
   "source": [
    "i = 0\n",
    "Y = [X[0],X[1]+RendimentoDiário,(aporte+RendimentoDiário)*selic/(100*365),ValorAcumuladoDiario+(aporte+RendimentoDiário)*selic/(100*365)]\n"
   ]
  },
  {
   "cell_type": "code",
   "execution_count": 16,
   "metadata": {},
   "outputs": [],
   "source": [
    " to_append = Y"
   ]
  },
  {
   "cell_type": "code",
   "execution_count": 17,
   "metadata": {},
   "outputs": [
    {
     "output_type": "execute_result",
     "data": {
      "text/plain": [
       "   Rendimento Anual  Aporte Inicial  Rendimento Mensal  ValorAcumuladoMensal\n",
       "0          0.060000   100000.000000          16.438356         100016.438356\n",
       "1          0.060000   100016.438356          16.441058         100032.879415\n",
       "2          0.060000   100016.438356          16.441058         100032.879415\n",
       "3     100000.000000       32.876712          16.441058         100032.879415\n",
       "4         16.438356   100032.876712          16.441058         100032.879415"
      ],
      "text/html": "<div>\n<style scoped>\n    .dataframe tbody tr th:only-of-type {\n        vertical-align: middle;\n    }\n\n    .dataframe tbody tr th {\n        vertical-align: top;\n    }\n\n    .dataframe thead th {\n        text-align: right;\n    }\n</style>\n<table border=\"1\" class=\"dataframe\">\n  <thead>\n    <tr style=\"text-align: right;\">\n      <th></th>\n      <th>Rendimento Anual</th>\n      <th>Aporte Inicial</th>\n      <th>Rendimento Mensal</th>\n      <th>ValorAcumuladoMensal</th>\n    </tr>\n  </thead>\n  <tbody>\n    <tr>\n      <td>0</td>\n      <td>0.060000</td>\n      <td>100000.000000</td>\n      <td>16.438356</td>\n      <td>100016.438356</td>\n    </tr>\n    <tr>\n      <td>1</td>\n      <td>0.060000</td>\n      <td>100016.438356</td>\n      <td>16.441058</td>\n      <td>100032.879415</td>\n    </tr>\n    <tr>\n      <td>2</td>\n      <td>0.060000</td>\n      <td>100016.438356</td>\n      <td>16.441058</td>\n      <td>100032.879415</td>\n    </tr>\n    <tr>\n      <td>3</td>\n      <td>100000.000000</td>\n      <td>32.876712</td>\n      <td>16.441058</td>\n      <td>100032.879415</td>\n    </tr>\n    <tr>\n      <td>4</td>\n      <td>16.438356</td>\n      <td>100032.876712</td>\n      <td>16.441058</td>\n      <td>100032.879415</td>\n    </tr>\n  </tbody>\n</table>\n</div>"
     },
     "metadata": {},
     "execution_count": 17
    }
   ],
   "source": [
    "to_append = Y\n",
    "df_lenght = len(df)\n",
    "df.loc[df_lenght] = to_append\n",
    "df"
   ]
  },
  {
   "cell_type": "code",
   "execution_count": 15,
   "metadata": {},
   "outputs": [
    {
     "output_type": "error",
     "ename": "IndexError",
     "evalue": "list index out of range",
     "traceback": [
      "\u001b[1;31m---------------------------------------------------------------------------\u001b[0m",
      "\u001b[1;31mIndexError\u001b[0m                                Traceback (most recent call last)",
      "\u001b[1;32m<ipython-input-15-e3a075030a34>\u001b[0m in \u001b[0;36m<module>\u001b[1;34m\u001b[0m\n\u001b[0;32m      1\u001b[0m \u001b[1;32mfor\u001b[0m \u001b[0mi\u001b[0m \u001b[1;32min\u001b[0m \u001b[0mrange\u001b[0m \u001b[1;33m(\u001b[0m\u001b[1;36m10\u001b[0m\u001b[1;33m)\u001b[0m\u001b[1;33m:\u001b[0m\u001b[1;33m\u001b[0m\u001b[1;33m\u001b[0m\u001b[0m\n\u001b[0;32m      2\u001b[0m     \u001b[0mto_append\u001b[0m \u001b[1;33m=\u001b[0m \u001b[0mY\u001b[0m\u001b[1;33m\u001b[0m\u001b[1;33m\u001b[0m\u001b[0m\n\u001b[1;32m----> 3\u001b[1;33m     \u001b[0mY\u001b[0m \u001b[1;33m=\u001b[0m \u001b[1;33m[\u001b[0m\u001b[0mX\u001b[0m\u001b[1;33m[\u001b[0m\u001b[0mi\u001b[0m\u001b[1;33m]\u001b[0m\u001b[1;33m,\u001b[0m\u001b[0mX\u001b[0m\u001b[1;33m[\u001b[0m\u001b[0mi\u001b[0m\u001b[1;33m+\u001b[0m\u001b[1;36m1\u001b[0m\u001b[1;33m]\u001b[0m\u001b[1;33m+\u001b[0m\u001b[0mRendimentoDiário\u001b[0m\u001b[1;33m,\u001b[0m\u001b[1;33m(\u001b[0m\u001b[0maporte\u001b[0m\u001b[1;33m+\u001b[0m\u001b[0mRendimentoDiário\u001b[0m\u001b[1;33m)\u001b[0m\u001b[1;33m*\u001b[0m\u001b[0mselic\u001b[0m\u001b[1;33m/\u001b[0m\u001b[1;33m(\u001b[0m\u001b[1;36m100\u001b[0m\u001b[1;33m*\u001b[0m\u001b[1;36m365\u001b[0m\u001b[1;33m)\u001b[0m\u001b[1;33m,\u001b[0m\u001b[0mValorAcumuladoDiario\u001b[0m\u001b[1;33m+\u001b[0m\u001b[1;33m(\u001b[0m\u001b[0maporte\u001b[0m\u001b[1;33m+\u001b[0m\u001b[0mRendimentoDiário\u001b[0m\u001b[1;33m)\u001b[0m\u001b[1;33m*\u001b[0m\u001b[0mselic\u001b[0m\u001b[1;33m/\u001b[0m\u001b[1;33m(\u001b[0m\u001b[1;36m100\u001b[0m\u001b[1;33m*\u001b[0m\u001b[1;36m365\u001b[0m\u001b[1;33m)\u001b[0m\u001b[1;33m]\u001b[0m\u001b[1;33m\u001b[0m\u001b[1;33m\u001b[0m\u001b[0m\n\u001b[0m\u001b[0;32m      4\u001b[0m     \u001b[0mdf_lenght\u001b[0m \u001b[1;33m=\u001b[0m \u001b[0mlen\u001b[0m\u001b[1;33m(\u001b[0m\u001b[0mdf\u001b[0m\u001b[1;33m)\u001b[0m\u001b[1;33m\u001b[0m\u001b[1;33m\u001b[0m\u001b[0m\n\u001b[0;32m      5\u001b[0m     \u001b[0mdf\u001b[0m\u001b[1;33m.\u001b[0m\u001b[0mloc\u001b[0m\u001b[1;33m[\u001b[0m\u001b[0mdf_lenght\u001b[0m\u001b[1;33m]\u001b[0m \u001b[1;33m=\u001b[0m \u001b[0mto_append\u001b[0m\u001b[1;33m\u001b[0m\u001b[1;33m\u001b[0m\u001b[0m\n",
      "\u001b[1;31mIndexError\u001b[0m: list index out of range"
     ]
    }
   ],
   "source": [
    "\n",
    "for i in range (10):\n",
    "    to_append = Y\n",
    "    Y = [X[i],X[i+1]+RendimentoDiário,(aporte+RendimentoDiário)*selic/(100*365),ValorAcumuladoDiario+(aporte+RendimentoDiário)*selic/(100*365)]\n",
    "    df_lenght = len(df)\n",
    "    df.loc[df_lenght] = to_append\n",
    "    i=i+1\n",
    "i=0\n",
    "df"
   ]
  },
  {
   "cell_type": "code",
   "execution_count": null,
   "metadata": {},
   "outputs": [],
   "source": [
    "df"
   ]
  },
  {
   "cell_type": "code",
   "execution_count": null,
   "metadata": {},
   "outputs": [],
   "source": [
    "\n",
    "#------------------------------------------------------------------------------------------------------------------------------------------------------------------------------------------------------------------------------------------------------#\n",
    "\n",
    "\n",
    "\n",
    "\n",
    "\n",
    "taxaselic=(5.5/36500) #  ( 5.5/100 ) 365 para transformar de ano para dia\n",
    "#Tabela regressiva do IR\n",
    "Valoraplicado=float(input('Insira o valor aplicado'))                    \n",
    "tempoaplicadoemdias=int(input('Insira o número de dias que o valor ficou aplicado'))"
   ]
  },
  {
   "cell_type": "code",
   "execution_count": null,
   "metadata": {},
   "outputs": [],
   "source": [
    "#Estrutura condicional para estabelecer o cálculo do IR \n",
    "#para os dias que o valor ficou rendendo na SELIC\n",
    "if ((tempoaplicadoemdias)<180):\n",
    "    valorfinal = Valoraplicado + (Valoraplicado * tempoaplicadoemdias * IR1 * taxaselic)\n",
    "    print(valorfinal)\n",
    "if ((tempoaplicadoemdias)>180 and (tempoaplicadoemdias)<360):\n",
    "    valorfinal = Valoraplicado + (Valoraplicado * tempoaplicadoemdias * IR2 * taxaselic)\n",
    "    print(valorfinal)\n",
    "if ((tempoaplicadoemdias)>180 and (tempoaplicadoemdias)<720):\n",
    "    valorfinal = Valoraplicado + (Valoraplicado * tempoaplicadoemdias * IR3 * taxaselic)\n",
    "    print(valorfinal)\n",
    "if ((tempoaplicadoemdias)>(720)):\n",
    "    valorfinal = Valoraplicado + (Valoraplicado * tempoaplicadoemdias * IR4 * taxaselic)\n",
    "    print(valorfinal)"
   ]
  },
  {
   "cell_type": "code",
   "execution_count": null,
   "metadata": {},
   "outputs": [],
   "source": [
    "IR1=22.5/100\n",
    "IR2=20/100\n",
    "IR3=17.5/100\n",
    "IR4=15/100\n",
    "IOF=1"
   ]
  }
 ]
}