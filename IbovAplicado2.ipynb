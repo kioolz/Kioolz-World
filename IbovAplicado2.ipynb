{
 "cells": [
  {
   "cell_type": "code",
   "execution_count": 2,
   "metadata": {},
   "outputs": [],
   "source": [
    "import pandas_datareader as web\n",
    "import datetime\n",
    "import numpy as np"
   ]
  },
  {
   "cell_type": "code",
   "execution_count": 3,
   "metadata": {},
   "outputs": [
    {
     "output_type": "display_data",
     "data": {
      "text/plain": "Date\n2020-01-02    1.802758\n2020-01-03   -0.105543\n2020-01-06    0.848355\n2020-01-07    0.052495\n2020-01-08   -0.628606\n2020-01-09   -0.947370\n2020-01-10    0.371943\n2020-01-13    1.479127\n2020-01-14   -0.520835\n2020-01-15   -1.263157\ndtype: float64"
     },
     "metadata": {}
    }
   ],
   "source": [
    "abev3  = web.get_data_yahoo('ABEV3.SA', start=datetime.datetime(2020,1,1), end='today')\n",
    "pct_abev3 = (abev3.Close / abev3.Open).apply(lambda x:x-1)*100\n",
    "display(pct_abev3.head(10))"
   ]
  },
  {
   "cell_type": "code",
   "execution_count": 13,
   "metadata": {},
   "outputs": [
    {
     "output_type": "display_data",
     "data": {
      "text/plain": "Date\n2020-01-02    0.648393\n2020-01-03    0.465723\n2020-01-06   -0.353157\n2020-01-07    0.934579\n2020-01-08   -0.350558\n2020-01-09   -0.837211\n2020-01-10   -0.725580\n2020-01-13    3.094705\n2020-01-14    0.614828\n2020-01-15    0.289331\ndtype: float64"
     },
     "metadata": {}
    }
   ],
   "source": [
    "vale3 = web.get_data_yahoo('VALE3.SA', start=datetime.datetime(2020,1,1), end='today')\n",
    "pct_vale3 = (vale3.Close/ vale3.Open).apply(lambda x:x-1)*100\n",
    "display(pct_vale3.head(10))"
   ]
  },
  {
   "cell_type": "code",
   "execution_count": null,
   "metadata": {},
   "outputs": [],
   "source": [
    "bees3  = web.get_data_yahoo('BEES3.SA', start=datetime.datetime(2020,1,1), end='today')\n",
    "pct_bees3 = (bees3.Close/bees3.Open).apply(lambda x:x-1)*100\n",
    "display(pct_bees3.head(10))"
   ]
  },
  {
   "cell_type": "code",
   "execution_count": null,
   "metadata": {},
   "outputs": [],
   "source": [
    "\n",
    "itsa4  = web.get_data_yahoo('ITSA4.SA', start=datetime.datetime(2020,1,1), end='today')\n",
    "pct_itsa4 = (itsa4.Close/itsa4.Open).apply(lambda x:x-1)*100\n",
    "display(pct_itsa4.head(10))"
   ]
  },
  {
   "cell_type": "code",
   "execution_count": 11,
   "metadata": {},
   "outputs": [
    {
     "output_type": "display_data",
     "data": {
      "text/plain": "             High         Low        Open       Close        Volume  \\\ncount  227.000000  227.000000  227.000000  227.000000  2.270000e+02   \nmean    55.700396   53.990617   54.853744   54.861762  3.004844e+07   \nstd      8.010949    8.280152    8.091205    8.202748  1.597265e+07   \nmin     35.860001   32.450001   35.549999   34.099998  7.831800e+06   \n25%     51.075001   49.799999   50.360001   50.115000  2.175235e+07   \n50%     56.349998   55.000000   55.599998   55.619999  2.724270e+07   \n75%     62.190001   60.279999   61.195000   61.280001  3.357570e+07   \nmax     79.360001   77.120003   78.849998   78.199997  1.825358e+08   \n\n        Adj Close  \ncount  227.000000  \nmean    53.188494  \nstd      8.507105  \nmin     32.731731  \n25%     48.104126  \n50%     53.388237  \n75%     59.166681  \nmax     78.199997  ",
      "text/html": "<div>\n<style scoped>\n    .dataframe tbody tr th:only-of-type {\n        vertical-align: middle;\n    }\n\n    .dataframe tbody tr th {\n        vertical-align: top;\n    }\n\n    .dataframe thead th {\n        text-align: right;\n    }\n</style>\n<table border=\"1\" class=\"dataframe\">\n  <thead>\n    <tr style=\"text-align: right;\">\n      <th></th>\n      <th>High</th>\n      <th>Low</th>\n      <th>Open</th>\n      <th>Close</th>\n      <th>Volume</th>\n      <th>Adj Close</th>\n    </tr>\n  </thead>\n  <tbody>\n    <tr>\n      <td>count</td>\n      <td>227.000000</td>\n      <td>227.000000</td>\n      <td>227.000000</td>\n      <td>227.000000</td>\n      <td>2.270000e+02</td>\n      <td>227.000000</td>\n    </tr>\n    <tr>\n      <td>mean</td>\n      <td>55.700396</td>\n      <td>53.990617</td>\n      <td>54.853744</td>\n      <td>54.861762</td>\n      <td>3.004844e+07</td>\n      <td>53.188494</td>\n    </tr>\n    <tr>\n      <td>std</td>\n      <td>8.010949</td>\n      <td>8.280152</td>\n      <td>8.091205</td>\n      <td>8.202748</td>\n      <td>1.597265e+07</td>\n      <td>8.507105</td>\n    </tr>\n    <tr>\n      <td>min</td>\n      <td>35.860001</td>\n      <td>32.450001</td>\n      <td>35.549999</td>\n      <td>34.099998</td>\n      <td>7.831800e+06</td>\n      <td>32.731731</td>\n    </tr>\n    <tr>\n      <td>25%</td>\n      <td>51.075001</td>\n      <td>49.799999</td>\n      <td>50.360001</td>\n      <td>50.115000</td>\n      <td>2.175235e+07</td>\n      <td>48.104126</td>\n    </tr>\n    <tr>\n      <td>50%</td>\n      <td>56.349998</td>\n      <td>55.000000</td>\n      <td>55.599998</td>\n      <td>55.619999</td>\n      <td>2.724270e+07</td>\n      <td>53.388237</td>\n    </tr>\n    <tr>\n      <td>75%</td>\n      <td>62.190001</td>\n      <td>60.279999</td>\n      <td>61.195000</td>\n      <td>61.280001</td>\n      <td>3.357570e+07</td>\n      <td>59.166681</td>\n    </tr>\n    <tr>\n      <td>max</td>\n      <td>79.360001</td>\n      <td>77.120003</td>\n      <td>78.849998</td>\n      <td>78.199997</td>\n      <td>1.825358e+08</td>\n      <td>78.199997</td>\n    </tr>\n  </tbody>\n</table>\n</div>"
     },
     "metadata": {}
    }
   ],
   "source": [
    "display(vale3.describe())"
   ]
  },
  {
   "cell_type": "code",
   "execution_count": 21,
   "metadata": {},
   "outputs": [],
   "source": [
    "pct_c = (vale3.Close / vale3.Open).apply(lambda x:x-1)*100"
   ]
  },
  {
   "cell_type": "code",
   "execution_count": 22,
   "metadata": {},
   "outputs": [
    {
     "data": {
      "text/plain": [
       "Date\n",
       "2020-01-02    0.648393\n",
       "2020-01-03    0.465723\n",
       "2020-01-06   -0.353157\n",
       "2020-01-07    0.934579\n",
       "2020-01-08   -0.350558\n",
       "2020-01-09   -0.837211\n",
       "2020-01-10   -0.725580\n",
       "2020-01-13    3.094705\n",
       "2020-01-14    0.614828\n",
       "2020-01-15    0.289331\n",
       "dtype: float64"
      ]
     },
     "metadata": {},
     "output_type": "display_data"
    }
   ],
   "source": [
    "display(pct_c.head(10))"
   ]
  },
  {
   "cell_type": "code",
   "execution_count": 20,
   "metadata": {},
   "outputs": [],
   "source": [
    "daily_log_returns = np.log(vale3.Close.pct_change()+1)"
   ]
  },
  {
   "cell_type": "code",
   "execution_count": 26,
   "metadata": {},
   "outputs": [
    {
     "name": "stdout",
     "output_type": "stream",
     "text": [
      "Collecting plotly\n",
      "  Downloading https://files.pythonhosted.org/packages/4c/f3/93bc71d449828098efc7dda0a682937762d0c17f6140dcbc6fc6fa2a467d/plotly-4.13.0-py2.py3-none-any.whl (13.1MB)\n",
      "Requirement already satisfied: six in d:\\python\\lib\\site-packages (from plotly) (1.12.0)\n",
      "Collecting retrying>=1.3.3 (from plotly)\n",
      "Installing collected packages: retrying, plotly\n",
      "Successfully installed plotly-4.13.0 retrying-1.3.3\n"
     ]
    }
   ],
   "source": [
    "!pip install plotly"
   ]
  },
  {
   "cell_type": "code",
   "execution_count": 21,
   "metadata": {},
   "outputs": [],
   "source": [
    "import plotly as py"
   ]
  },
  {
   "cell_type": "code",
   "execution_count": 24,
   "metadata": {},
   "outputs": [
    {
     "output_type": "error",
     "ename": "NameError",
     "evalue": "name 'histogram' is not defined",
     "traceback": [
      "\u001b[1;31m---------------------------------------------------------------------------\u001b[0m",
      "\u001b[1;31mNameError\u001b[0m                                 Traceback (most recent call last)",
      "\u001b[1;32m<ipython-input-24-87a498ac6ae4>\u001b[0m in \u001b[0;36m<module>\u001b[1;34m\u001b[0m\n\u001b[0;32m      1\u001b[0m \u001b[0mplotly_username\u001b[0m \u001b[1;33m=\u001b[0m\u001b[1;34m\"username\"\u001b[0m\u001b[1;33m\u001b[0m\u001b[1;33m\u001b[0m\u001b[0m\n\u001b[0;32m      2\u001b[0m \u001b[0mplotly_key\u001b[0m \u001b[1;33m=\u001b[0m \u001b[1;34m\"api_ley\"\u001b[0m\u001b[1;33m\u001b[0m\u001b[1;33m\u001b[0m\u001b[0m\n\u001b[1;32m----> 3\u001b[1;33m \u001b[0mdata\u001b[0m \u001b[1;33m=\u001b[0m \u001b[1;33m[\u001b[0m\u001b[0mhistogram\u001b[0m\u001b[1;33m(\u001b[0m\u001b[0mx\u001b[0m\u001b[1;33m=\u001b[0m\u001b[0mdaily_log_returns\u001b[0m\u001b[1;33m)\u001b[0m\u001b[1;33m]\u001b[0m\u001b[1;33m\u001b[0m\u001b[1;33m\u001b[0m\u001b[0m\n\u001b[0m\u001b[0;32m      4\u001b[0m \u001b[0mpyplot\u001b[0m\u001b[1;33m.\u001b[0m\u001b[0miplot\u001b[0m\u001b[1;33m(\u001b[0m\u001b[0mdata\u001b[0m\u001b[1;33m,\u001b[0m\u001b[0mfilename\u001b[0m\u001b[1;33m=\u001b[0m\u001b[1;34m'basic histogram'\u001b[0m\u001b[1;33m)\u001b[0m\u001b[1;33m\u001b[0m\u001b[1;33m\u001b[0m\u001b[0m\n",
      "\u001b[1;31mNameError\u001b[0m: name 'histogram' is not defined"
     ]
    }
   ],
   "source": [
    "plotly_username =\"username\"\n",
    "plotly_key = \"api_ley\"\n",
    "data = [histogram(x=daily_log_returns)]\n",
    "pyplot.iplot(data,filename='basic histogram')"
   ]
  }
 ],
 "metadata": {
  "kernelspec": {
   "display_name": "Python 3",
   "language": "python",
   "name": "python3"
  },
  "language_info": {
   "codemirror_mode": {
    "name": "ipython",
    "version": 3
   },
   "file_extension": ".py",
   "mimetype": "text/x-python",
   "name": "python",
   "nbconvert_exporter": "python",
   "pygments_lexer": "ipython3",
   "version": "3.7.4-final"
  }
 },
 "nbformat": 4,
 "nbformat_minor": 2
}