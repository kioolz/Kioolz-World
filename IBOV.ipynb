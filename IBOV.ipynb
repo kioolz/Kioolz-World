{
 "cells": [
  {
   "cell_type": "code",
   "execution_count": 2,
   "metadata": {
    "tags": []
   },
   "outputs": [],
   "source": [
    "#Analisando Ações com Python usando Yahoo Finance\n",
    "#Vídeo 1 - Importando dados do Yahoo Finance\n",
    "#1. Estas são as bibliotecas necessárias para a análise dos dados\n",
    "import numpy as np \n",
    "import pandas as pd\n",
    "import matplotlib.pyplot as plt\n",
    "import fundamentos as fts\n",
    "#1.1 - Essas são as bibliotecas para analisar os dados obtidos na Web do site Yahoo Finance. \n",
    "import pandas_datareader.data as web\n",
    "import yfinance as yf"
   ]
  },
  {
   "cell_type": "code",
   "execution_count": 3,
   "metadata": {},
   "outputs": [],
   "source": [
    "#1.2 - Assim percorremos todos os dados obtidos no Yahoo Finance.\n",
    "yf.pdr_override()"
   ]
  },
  {
   "cell_type": "code",
   "execution_count": null,
   "metadata": {},
   "outputs": [],
   "source": []
  },
  {
   "cell_type": "code",
   "execution_count": null,
   "metadata": {},
   "outputs": [],
   "source": []
  },
  {
   "cell_type": "code",
   "execution_count": 4,
   "metadata": {
    "tags": []
   },
   "outputs": [
    {
     "name": "stdout",
     "output_type": "stream",
     "text": [
      "[*********************100%***********************]  1 of 1 completed\n"
     ]
    }
   ],
   "source": [
    "#2.0 - O comando web.get_data_yahoo nos permite obter os dados da Bovespa através de sua sigla. \n",
    "ibov = web.get_data_yahoo('^BVSP')\n",
    "#2.1 - E podemos testar os últimos e os primeiros dados dentro do banco de dados"
   ]
  },
  {
   "cell_type": "code",
   "execution_count": null,
   "metadata": {},
   "outputs": [],
   "source": []
  },
  {
   "cell_type": "code",
   "execution_count": null,
   "metadata": {},
   "outputs": [],
   "source": []
  },
  {
   "cell_type": "code",
   "execution_count": 5,
   "metadata": {},
   "outputs": [
    {
     "data": {
      "text/html": [
       "<div>\n",
       "<style scoped>\n",
       "    .dataframe tbody tr th:only-of-type {\n",
       "        vertical-align: middle;\n",
       "    }\n",
       "\n",
       "    .dataframe tbody tr th {\n",
       "        vertical-align: top;\n",
       "    }\n",
       "\n",
       "    .dataframe thead th {\n",
       "        text-align: right;\n",
       "    }\n",
       "</style>\n",
       "<table border=\"1\" class=\"dataframe\">\n",
       "  <thead>\n",
       "    <tr style=\"text-align: right;\">\n",
       "      <th></th>\n",
       "      <th>Open</th>\n",
       "      <th>High</th>\n",
       "      <th>Low</th>\n",
       "      <th>Close</th>\n",
       "      <th>Adj Close</th>\n",
       "      <th>Volume</th>\n",
       "    </tr>\n",
       "    <tr>\n",
       "      <th>Date</th>\n",
       "      <th></th>\n",
       "      <th></th>\n",
       "      <th></th>\n",
       "      <th></th>\n",
       "      <th></th>\n",
       "      <th></th>\n",
       "    </tr>\n",
       "  </thead>\n",
       "  <tbody>\n",
       "    <tr>\n",
       "      <td>2020-11-09</td>\n",
       "      <td>100954.0</td>\n",
       "      <td>105147.0</td>\n",
       "      <td>100954.0</td>\n",
       "      <td>103913.0</td>\n",
       "      <td>103913.0</td>\n",
       "      <td>17410500</td>\n",
       "    </tr>\n",
       "    <tr>\n",
       "      <td>2020-11-10</td>\n",
       "      <td>103516.0</td>\n",
       "      <td>105758.0</td>\n",
       "      <td>103453.0</td>\n",
       "      <td>105351.0</td>\n",
       "      <td>105351.0</td>\n",
       "      <td>16665200</td>\n",
       "    </tr>\n",
       "    <tr>\n",
       "      <td>2020-11-11</td>\n",
       "      <td>105067.0</td>\n",
       "      <td>105462.0</td>\n",
       "      <td>104143.0</td>\n",
       "      <td>104532.0</td>\n",
       "      <td>104532.0</td>\n",
       "      <td>10841000</td>\n",
       "    </tr>\n",
       "    <tr>\n",
       "      <td>2020-11-12</td>\n",
       "      <td>104810.0</td>\n",
       "      <td>105019.0</td>\n",
       "      <td>102034.0</td>\n",
       "      <td>102175.0</td>\n",
       "      <td>102175.0</td>\n",
       "      <td>10860300</td>\n",
       "    </tr>\n",
       "    <tr>\n",
       "      <td>2020-11-13</td>\n",
       "      <td>102509.0</td>\n",
       "      <td>104707.0</td>\n",
       "      <td>102509.0</td>\n",
       "      <td>104512.0</td>\n",
       "      <td>104512.0</td>\n",
       "      <td>9772100</td>\n",
       "    </tr>\n",
       "    <tr>\n",
       "      <td>2020-11-16</td>\n",
       "      <td>104729.0</td>\n",
       "      <td>106518.0</td>\n",
       "      <td>104729.0</td>\n",
       "      <td>106430.0</td>\n",
       "      <td>106430.0</td>\n",
       "      <td>11724300</td>\n",
       "    </tr>\n",
       "    <tr>\n",
       "      <td>2020-11-17</td>\n",
       "      <td>106430.0</td>\n",
       "      <td>107810.0</td>\n",
       "      <td>105847.0</td>\n",
       "      <td>107229.0</td>\n",
       "      <td>107229.0</td>\n",
       "      <td>10311000</td>\n",
       "    </tr>\n",
       "    <tr>\n",
       "      <td>2020-11-18</td>\n",
       "      <td>107246.0</td>\n",
       "      <td>107467.0</td>\n",
       "      <td>106217.0</td>\n",
       "      <td>106483.0</td>\n",
       "      <td>106483.0</td>\n",
       "      <td>10337300</td>\n",
       "    </tr>\n",
       "    <tr>\n",
       "      <td>2020-11-19</td>\n",
       "      <td>106117.0</td>\n",
       "      <td>106973.0</td>\n",
       "      <td>105545.0</td>\n",
       "      <td>106517.0</td>\n",
       "      <td>106517.0</td>\n",
       "      <td>8555700</td>\n",
       "    </tr>\n",
       "    <tr>\n",
       "      <td>2020-11-23</td>\n",
       "      <td>106050.0</td>\n",
       "      <td>107495.0</td>\n",
       "      <td>106050.0</td>\n",
       "      <td>107379.0</td>\n",
       "      <td>107379.0</td>\n",
       "      <td>9686000</td>\n",
       "    </tr>\n",
       "    <tr>\n",
       "      <td>2020-11-24</td>\n",
       "      <td>107378.0</td>\n",
       "      <td>109956.0</td>\n",
       "      <td>107361.0</td>\n",
       "      <td>109786.0</td>\n",
       "      <td>109786.0</td>\n",
       "      <td>11934800</td>\n",
       "    </tr>\n",
       "    <tr>\n",
       "      <td>2020-11-25</td>\n",
       "      <td>109786.0</td>\n",
       "      <td>110596.0</td>\n",
       "      <td>109315.0</td>\n",
       "      <td>110133.0</td>\n",
       "      <td>110133.0</td>\n",
       "      <td>8564700</td>\n",
       "    </tr>\n",
       "    <tr>\n",
       "      <td>2020-11-26</td>\n",
       "      <td>110133.0</td>\n",
       "      <td>110245.0</td>\n",
       "      <td>109418.0</td>\n",
       "      <td>110227.0</td>\n",
       "      <td>110227.0</td>\n",
       "      <td>6166800</td>\n",
       "    </tr>\n",
       "    <tr>\n",
       "      <td>2020-11-27</td>\n",
       "      <td>110229.0</td>\n",
       "      <td>111603.0</td>\n",
       "      <td>110161.0</td>\n",
       "      <td>110575.0</td>\n",
       "      <td>110575.0</td>\n",
       "      <td>8790300</td>\n",
       "    </tr>\n",
       "  </tbody>\n",
       "</table>\n",
       "</div>"
      ],
      "text/plain": [
       "                Open      High       Low     Close  Adj Close    Volume\n",
       "Date                                                                   \n",
       "2020-11-09  100954.0  105147.0  100954.0  103913.0   103913.0  17410500\n",
       "2020-11-10  103516.0  105758.0  103453.0  105351.0   105351.0  16665200\n",
       "2020-11-11  105067.0  105462.0  104143.0  104532.0   104532.0  10841000\n",
       "2020-11-12  104810.0  105019.0  102034.0  102175.0   102175.0  10860300\n",
       "2020-11-13  102509.0  104707.0  102509.0  104512.0   104512.0   9772100\n",
       "2020-11-16  104729.0  106518.0  104729.0  106430.0   106430.0  11724300\n",
       "2020-11-17  106430.0  107810.0  105847.0  107229.0   107229.0  10311000\n",
       "2020-11-18  107246.0  107467.0  106217.0  106483.0   106483.0  10337300\n",
       "2020-11-19  106117.0  106973.0  105545.0  106517.0   106517.0   8555700\n",
       "2020-11-23  106050.0  107495.0  106050.0  107379.0   107379.0   9686000\n",
       "2020-11-24  107378.0  109956.0  107361.0  109786.0   109786.0  11934800\n",
       "2020-11-25  109786.0  110596.0  109315.0  110133.0   110133.0   8564700\n",
       "2020-11-26  110133.0  110245.0  109418.0  110227.0   110227.0   6166800\n",
       "2020-11-27  110229.0  111603.0  110161.0  110575.0   110575.0   8790300"
      ]
     },
     "execution_count": 5,
     "metadata": {},
     "output_type": "execute_result"
    }
   ],
   "source": [
    "#2.1.1 - A cauda do IBOV(Os dados mais recentes)\n",
    "ibov.tail(14)"
   ]
  },
  {
   "cell_type": "code",
   "execution_count": null,
   "metadata": {},
   "outputs": [],
   "source": []
  },
  {
   "cell_type": "code",
   "execution_count": null,
   "metadata": {},
   "outputs": [],
   "source": [
    "#2.1.2 - A ponta do IBOV (Os dados mais antigos)\n",
    "ibov.head()"
   ]
  },
  {
   "cell_type": "code",
   "execution_count": 6,
   "metadata": {},
   "outputs": [
    {
     "data": {
      "text/plain": [
       "<matplotlib.axes._subplots.AxesSubplot at 0x1720440f188>"
      ]
     },
     "execution_count": 6,
     "metadata": {},
     "output_type": "execute_result"
    },
    {
     "data": {
      "image/png": "[encoded data removed]",
      "text/plain": [
       "<Figure size 1152x576 with 1 Axes>"
      ]
     },
     "metadata": {
      "needs_background": "light"
     },
     "output_type": "display_data"
    }
   ],
   "source": [
    "#E usando o comando plot e figsize, criamos um gráfico do IBOV desde seu início em ~1995.\n",
    "ibov[\"Close\"].plot(figsize=(16,8))"
   ]
  },
  {
   "cell_type": "code",
   "execution_count": null,
   "metadata": {},
   "outputs": [],
   "source": [
    "ibov[\"Open\"].plot(figsize=(16,8))"
   ]
  },
  {
   "cell_type": "code",
   "execution_count": null,
   "metadata": {
    "tags": []
   },
   "outputs": [],
   "source": [
    "#Vídeo 2 - Definindo intervalos,\n",
    "# calculando e plotando médias móveis\n",
    "ibov[\"Close\"].plot(figsize=(8,2), label=\"IBOV\")\n",
    "#O Comando rolling é usado para calcular a média móvel de X dias\n",
    "\n",
    "ibov[\"Close\"].plot(figsize=(8,2), label=\"IBOV\")\n",
    "ibov[\"Close\"].rolling(21).mean().plot(label=\"MM21\")\n",
    "ibov[\"Close\"].rolling(200).mean().plot(label=\"MM200\")\n",
    "ibov[\"Adj Close\"].rolling(365).mean().plot(label=\"MM365\")"
   ]
  },
  {
   "cell_type": "code",
   "execution_count": null,
   "metadata": {
    "tags": []
   },
   "outputs": [],
   "source": [
    "#Parcelas menores do IBOV, por exemplo entre 2008 e 2015\n",
    "ibov_fatiado = ibov[(ibov.index.year >= 2019) & (ibov.index.year <=2020)] \n",
    "\n",
    "# Médias móveis\n",
    "ibov_fatiado[\"Close\"].rolling(21).mean().plot(label=\"MM21\")\n",
    "ibov_fatiado[\"Close\"].rolling(200).mean().plot(label=\"MM200\")\n",
    "ibov_fatiado[\"Close\"].rolling(365).mean().plot(label=\"MM365\")\n",
    "\n",
    "ibov_fatiado[\"Close\"].plot(figsize=(8,2), label=\"IBOV20192020\")\n"
   ]
  },
  {
   "cell_type": "code",
   "execution_count": null,
   "metadata": {},
   "outputs": [],
   "source": [
    "#Podemos fatiar uma parte específica do ibovespa\n",
    "ibovparcial = web.get_data_yahoo('^BVSP', start = '2019-08-15', end='2020-10-09')\n",
    "ibovparcial[\"Close\"].plot(figsize=(8,2))"
   ]
  },
  {
   "cell_type": "code",
   "execution_count": null,
   "metadata": {},
   "outputs": [],
   "source": [
    "ibov2020 = ibov[(ibov.index.year >=2020)]\n",
    "ibov2020 [\"Close\"].plot(figsize=(8,2))"
   ]
  },
  {
   "cell_type": "code",
   "execution_count": null,
   "metadata": {},
   "outputs": [],
   "source": [
    "ibov2019 = ibov[(ibov.index.year >= 2019)&(ibov.index.year <=2019)]\n",
    "ibov2019 [\"Close\"].plot(figsize=(8,2))"
   ]
  },
  {
   "cell_type": "code",
   "execution_count": null,
   "metadata": {},
   "outputs": [],
   "source": [
    "#Filtro por mês, sendo 12, todos os meses de dezembro\n",
    "ibov_fatiado = ibov[ibov.index.month ==12]\n",
    "ibov_fatiado.tail()\n",
    "\n",
    "ibov_fatiado = ibov[ibov.index.month ==9]\n",
    "ibov_fatiado.tail()\n",
    "\n",
    "ibov_fatiado = ibov[ibov.index.month ==6]\n",
    "ibov_fatiado.tail()\n",
    "\n",
    "ibov_fatiado = ibov[ibov.index.month ==3]\n",
    "ibov_fatiado.tail()"
   ]
  },
  {
   "cell_type": "code",
   "execution_count": 7,
   "metadata": {
    "tags": []
   },
   "outputs": [
    {
     "name": "stdout",
     "output_type": "stream",
     "text": [
      "[*********************100%***********************]  1 of 1 completed\n",
      "[*********************100%***********************]  1 of 1 completed\n",
      "[*********************100%***********************]  1 of 1 completed\n",
      "[*********************100%***********************]  1 of 1 completed\n",
      "[*********************100%***********************]  1 of 1 completed\n",
      "[*********************100%***********************]  1 of 1 completed\n",
      "[*********************100%***********************]  1 of 1 completed\n",
      "[*********************100%***********************]  1 of 1 completed\n",
      "[*********************100%***********************]  1 of 1 completed\n",
      "[*********************100%***********************]  1 of 1 completed\n",
      "\n",
      "1 Failed download:\n",
      "- TORD11.SA: No data found for this date range, symbol may be delisted\n"
     ]
    }
   ],
   "source": [
    "#FIIs em carteira desde Fev2020\n",
    "habt11 = web.get_data_yahoo('HABT11.SA', start='2020-02-01', end='2020-11-30')\n",
    "tgar11 = web.get_data_yahoo('TGAR11.SA', start='2020-02-01', end='2020-11-30')\n",
    "xplg11 = web.get_data_yahoo('XPLG11.SA', start='2020-02-01', end='2020-11-30')\n",
    "mxrf11 = web.get_data_yahoo('MXRF11.SA', start='2020-02-01', end='2020-11-30')\n",
    "flma11 = web.get_data_yahoo('FLMA11.SA', start='2020-02-01', end='2020-11-30')\n",
    "knri11 = web.get_data_yahoo('KNRI11.SA', start='2020-02-01', end='2020-11-30')\n",
    "bcff11 = web.get_data_yahoo('BCFF11.SA', start='2020-02-01', end='2020-11-30')\n",
    "xpsf11 = web.get_data_yahoo('XPSF11.SA', start='2020-02-01', end='2020-11-30')\n",
    "xpci11 = web.get_data_yahoo('XPCI11.SA', start='2020-02-01', end='2020-11-30')"
   ]
  },
  {
   "cell_type": "code",
   "execution_count": null,
   "metadata": {},
   "outputs": [],
   "source": []
  },
  {
   "cell_type": "markdown",
   "metadata": {},
   "source": [
    "cotatgar11 = tgar11[\"Close\"].plot(figsize=(8,2), label=\"habt11\")"
   ]
  },
  {
   "cell_type": "markdown",
   "metadata": {},
   "source": [
    "cotahabt11 = habt11[\"Close\"].plot(figsize=(8,2), label=\"habt11\")"
   ]
  },
  {
   "cell_type": "code",
   "execution_count": null,
   "metadata": {},
   "outputs": [],
   "source": [
    "cotaxplg11 = xplg11[\"Close\"].plot(figsize=(8,2), label=\"xplg11\")"
   ]
  },
  {
   "cell_type": "code",
   "execution_count": null,
   "metadata": {},
   "outputs": [],
   "source": [
    "cotaxpci11 = xpci11[\"Close\"].plot(figsize=(8,2), label=\"xpci11\")"
   ]
  },
  {
   "cell_type": "code",
   "execution_count": null,
   "metadata": {},
   "outputs": [],
   "source": [
    "cotaxpsf11 = xpsf11[\"Close\"].plot(figsize=(8,2), label=\"xpsf11\")\n"
   ]
  },
  {
   "cell_type": "code",
   "execution_count": null,
   "metadata": {},
   "outputs": [],
   "source": [
    "cotabcff11 = bcff11[\"Close\"].plot(figsize=(8,2), label=\"bcff11\")"
   ]
  },
  {
   "cell_type": "code",
   "execution_count": null,
   "metadata": {},
   "outputs": [],
   "source": [
    "cotamxrf11 = mxrf11[\"Close\"].plot(figsize=(8,2), label=\"mxrf11\")"
   ]
  },
  {
   "cell_type": "code",
   "execution_count": null,
   "metadata": {},
   "outputs": [],
   "source": [
    "cotaknri11 = knri11[\"Close\"].plot(figsize=(8,2), label=\"knri11\")"
   ]
  },
  {
   "cell_type": "code",
   "execution_count": 8,
   "metadata": {
    "tags": []
   },
   "outputs": [
    {
     "name": "stdout",
     "output_type": "stream",
     "text": [
      "[*********************100%***********************]  1 of 1 completed\n",
      "[*********************100%***********************]  1 of 1 completed\n",
      "[*********************100%***********************]  1 of 1 completed\n",
      "[*********************100%***********************]  1 of 1 completed\n",
      "[*********************100%***********************]  1 of 1 completed\n",
      "[*********************100%***********************]  1 of 1 completed\n",
      "[*********************100%***********************]  1 of 1 completed\n",
      "[*********************100%***********************]  1 of 1 completed\n",
      "[*********************100%***********************]  1 of 1 completed\n",
      "[*********************100%***********************]  1 of 1 completed\n",
      "[*********************100%***********************]  1 of 1 completed\n",
      "[*********************100%***********************]  1 of 1 completed\n",
      "[*********************100%***********************]  1 of 1 completed\n",
      "[*********************100%***********************]  1 of 1 completed\n",
      "[*********************100%***********************]  1 of 1 completed\n"
     ]
    }
   ],
   "source": [
    "#Ou podemos observar o valor de uma cotação de uma determinada ação dentro também de um intervalo específico\n",
    "bees3  = web.get_data_yahoo('BEES3.SA', start='2019-08-15', end='2020-09-30')\n",
    "abev3  = web.get_data_yahoo('ABEV3.SA', start='2019-08-15', end='2020-09-30')\n",
    "itsa4  = web.get_data_yahoo('ITSA4.SA', start='2019-08-15', end='2020-09-30')\n",
    "klbn4  = web.get_data_yahoo('KLBN4.SA', start='2019-08-15', end='2020-09-30')\n",
    "wege3  = web.get_data_yahoo('WEGE3.SA', start='2019-08-15', end='2020-09-30')\n",
    "grnd3  = web.get_data_yahoo(\"GRND3.SA\", start='2019-08-15', end='2020-09-30')\n",
    "mrve3  = web.get_data_yahoo(\"MRVE3.SA\", start='2019-08-15', end='2020-09-30')\n",
    "bbas3  = web.get_data_yahoo(\"BBAS3.SA\", start='2019-08-15', end='2020-09-30')\n",
    "itub4  = web.get_data_yahoo(\"ITUB4.SA\", start='2019-08-15', end='2020-09-30')\n",
    "egie3  = web.get_data_yahoo(\"EGIE3.SA\", start='2019-08-15', end='2020-09-30')\n",
    "sqia3  = web.get_data_yahoo(\"SQIA3.SA\", start='2019-08-15', end='2020-09-30')\n",
    "bpan4  = web.get_data_yahoo(\"BPAN4.SA\", start='2019-08-15', end='2020-09-30')\n",
    "tpis3  = web.get_data_yahoo(\"TPIS3.SA\", start='2019-08-15', end='2020-09-30')\n",
    "tris3  = web.get_data_yahoo(\"TRIS3.SA\", start='2019-08-15', end='2020-09-30')\n",
    "jhsf3  = web.get_data_yahoo(\"JHSF3.SA\", start='2019-08-15', end='2020-09-30')\n"
   ]
  },
  {
   "cell_type": "code",
   "execution_count": null,
   "metadata": {},
   "outputs": [],
   "source": [
    "\n",
    "\n",
    "\n",
    "\n",
    "\n",
    "\n",
    "\n",
    "#Ativo Total - Total Assets\n",
    "#Ativo Circulante - Current Assets\n",
    "#Ativo Não Circulante - Non-current Assets\n",
    "#Passivo Total - Total Liabilities\n",
    "#Passivo Circulante - Current Liabilities\n",
    "#Passivo Não Circulante - Non-current Liabilities\n",
    "#Patrimônio Líquido - Net Worth\n"
   ]
  },
  {
   "cell_type": "code",
   "execution_count": null,
   "metadata": {},
   "outputs": [],
   "source": [
    "#Fundamentos das empresas em carteira\n",
    "#Todos os fundamentos históricos, anualmente\n",
    "\n",
    "\n",
    "#O comando fts.get_fundamentos serve para puxar o fundamento da empresa.\n",
    "ftsitub4 = fts.get_fundamentos('ITUB4')\n",
    "ftsbees3 = fts.get_fundamentos('BEES3')\n",
    "ftsabev3 = fts.get_fundamentos('ABEV3')\n",
    "ftsklbn4 = fts.get_fundamentos('KLBN4')\n",
    "ftswege3 = fts.get_fundamentos('WEGE3')\n",
    "\n",
    "#Todos os fundamentos dos terceiros trimestres\n",
    "ftsitub43t = fts.get_fundamentos('ITUB4', quarter=3)\n",
    "#Todos os fundamentos do primeiro trimestre de 2013\n",
    "ftsitub41t20 = fts.get_fundamentos('ITUB4', year=2020, quarter=1)\n",
    "\n",
    "\n",
    "\n",
    "df5 = fts.get_fundamentos('GRND3')\n",
    "df6 = fts.get_fundamentos('mrve3')\n",
    "df7 = fts.get_fundamentos('BBAS3')\n",
    "df8 = fts.get_fundamentos('ITUB4')\n",
    "df9 = fts.get_fundamentos('EGIE3')\n",
    "df11 = fts.get_fundamentos('BPAN4')\n",
    "df12 = fts.get_fundamentos('TPIS3')\n",
    "df13 = fts.get_fundamentos('TRIS3')\n",
    "df14 = fts.get_fundamentos('JHSF3')\n",
    "\n",
    "# E daí usamos o print para exibir. \n",
    "print(ftsitub4)"
   ]
  },
  {
   "cell_type": "code",
   "execution_count": null,
   "metadata": {},
   "outputs": [],
   "source": [
    "#Baixa todos os balanços anuais da empresa\n",
    "balance1 = fts.get_balanco('ITUB4')\n",
    "print(balance1)"
   ]
  },
  {
   "cell_type": "code",
   "execution_count": null,
   "metadata": {},
   "outputs": [],
   "source": [
    "itub4  = web.get_data_yahoo(\"ITUB4.SA\", start='2019-01-01', end='2019-12-31')\n",
    "cotaitub4 = itub4[\"Close\"].plot(figsize=(8,2))"
   ]
  },
  {
   "cell_type": "code",
   "execution_count": null,
   "metadata": {},
   "outputs": [],
   "source": [
    "#Dívidendos pagos\n",
    "ftsitub4['Dividendos']"
   ]
  },
  {
   "cell_type": "code",
   "execution_count": null,
   "metadata": {},
   "outputs": [],
   "source": [
    "#Escala do gráfico está errada se plotar todas as variáveis juntas\n",
    "# Por isso plotamos cada coluna separadamente, DYpago está em reais, Payout como todos apresentam um valor 0 < x < 1 assumo que seja uma porcentagem não convertida. Agora, a exponencial no Dividendos e JCP não faz sentido. \n",
    "ftsitub4['Dividendos','DY'].plot(figsize=(8,2))"
   ]
  },
  {
   "cell_type": "code",
   "execution_count": null,
   "metadata": {},
   "outputs": [],
   "source": [
    "cotaitub4 = itub4[\"Close\"].plot(figsize=(8,2), label=\"ITUB4\")"
   ]
  },
  {
   "cell_type": "code",
   "execution_count": null,
   "metadata": {},
   "outputs": [],
   "source": [
    "\n",
    "cotaitsa4 = itsa4[\"Close\"].plot(figsize=(8,2), label=\"ITSA4\")"
   ]
  },
  {
   "cell_type": "code",
   "execution_count": null,
   "metadata": {},
   "outputs": [],
   "source": [
    "# E aqui podemos ter acesso aos dados mais recentes do Ibov de forma gráfica\n",
    "ibov.tail(9)[\"Open\"].plot()"
   ]
  },
  {
   "cell_type": "markdown",
   "metadata": {},
   "source": []
  },
  {
   "cell_type": "code",
   "execution_count": null,
   "metadata": {},
   "outputs": [],
   "source": [
    "flma11.tail()\n",
    "itsa4.tail()\n",
    "mxrf11.tail()"
   ]
  },
  {
   "cell_type": "code",
   "execution_count": null,
   "metadata": {},
   "outputs": [],
   "source": [
    "mxrf11.tail(14)"
   ]
  },
  {
   "cell_type": "code",
   "execution_count": null,
   "metadata": {},
   "outputs": [],
   "source": [
    "ibov.tail()"
   ]
  },
  {
   "cell_type": "code",
   "execution_count": null,
   "metadata": {},
   "outputs": [],
   "source": []
  },
  {
   "cell_type": "code",
   "execution_count": null,
   "metadata": {},
   "outputs": [],
   "source": []
  },
  {
   "cell_type": "code",
   "execution_count": null,
   "metadata": {
    "scrolled": true
   },
   "outputs": [],
   "source": []
  }
 ],
 "metadata": {
  "kernelspec": {
   "display_name": "Python 3",
   "language": "python",
   "name": "python3"
  },
  "language_info": {
   "codemirror_mode": {
    "name": "ipython",
    "version": 3
   },
   "file_extension": ".py",
   "mimetype": "text/x-python",
   "name": "python",
   "nbconvert_exporter": "python",
   "pygments_lexer": "ipython3",
   "version": "3.7.4"
  }
 },
 "nbformat": 4,
 "nbformat_minor": 2
}