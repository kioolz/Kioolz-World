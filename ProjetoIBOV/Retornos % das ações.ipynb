{
 "metadata": {
  "language_info": {
   "codemirror_mode": {
    "name": "ipython",
    "version": 3
   },
   "file_extension": ".py",
   "mimetype": "text/x-python",
   "name": "python",
   "nbconvert_exporter": "python",
   "pygments_lexer": "ipython3",
   "version": "3.7.4-final"
  },
  "orig_nbformat": 2,
  "kernelspec": {
   "name": "Python 3.7.4 64-bit ('base': conda)",
   "display_name": "Python 3.7.4 64-bit ('base': conda)",
   "metadata": {
    "interpreter": {
     "hash": "31492cd00ff371012afc4d4b96f3879582e2180f538fdc9c36d76e109d473c83"
    }
   }
  }
 },
 "nbformat": 4,
 "nbformat_minor": 2,
 "cells": [
  {
   "cell_type": "code",
   "execution_count": 30,
   "metadata": {},
   "outputs": [],
   "source": [
    "import pandas_datareader as web\n",
    "import datetime\n",
    "import numpy as np \n",
    "\n",
    "bees3  = web.get_data_yahoo('BEES3.SA', start='2019-08-15')\n",
    "abev3  = web.get_data_yahoo('ABEV3.SA', start='2019-08-15', end='2020-09-30')\n",
    "itsa4  = web.get_data_yahoo('ITSA4.SA', start='2019-08-15', end='2020-09-30')\n",
    "klbn4  = web.get_data_yahoo('KLBN4.SA', start='2019-08-15', end='2020-09-30')\n",
    "wege3  = web.get_data_yahoo('WEGE3.SA', start='2019-08-15', end='2020-09-30')\n",
    "grnd3  = web.get_data_yahoo(\"GRND3.SA\", start='2019-08-15', end='2020-09-30')\n",
    "mrve3  = web.get_data_yahoo(\"MRVE3.SA\", start='2019-08-15', end='2020-09-30')\n",
    "bbas3  = web.get_data_yahoo(\"BBAS3.SA\", start='2019-08-15', end='2020-09-30')\n",
    "itub4  = web.get_data_yahoo(\"ITUB4.SA\", start='2019-08-15', end='2020-09-30')\n",
    "egie3  = web.get_data_yahoo(\"EGIE3.SA\", start='2019-08-15', end='2020-09-30')\n",
    "sqia3  = web.get_data_yahoo(\"SQIA3.SA\", start='2019-08-15', end='2020-09-30')\n",
    "bpan4  = web.get_data_yahoo(\"BPAN4.SA\", start='2019-08-15', end='2020-09-30')\n",
    "tpis3  = web.get_data_yahoo(\"TPIS3.SA\", start='2019-08-15', end='2020-09-30')\n",
    "tris3  = web.get_data_yahoo(\"TRIS3.SA\", start='2019-08-15', end='2020-09-30')\n",
    "jhsf3  = web.get_data_yahoo(\"JHSF3.SA\", start='2019-08-15', end='2020-09-30')\n",
    "\n",
    "itsa4 = web.get_data_yahoo('ITSA4.SA')\n",
    "vale3 = web.get_data_yahoo('VALE3.SA')"
   ]
  },
  {
   "cell_type": "code",
   "execution_count": 12,
   "metadata": {},
   "outputs": [
    {
     "output_type": "stream",
     "name": "stdout",
     "text": [
      "DatetimeIndex(['2015-10-15', '2015-10-16', '2015-10-19', '2015-10-20',\n               '2015-10-21', '2015-10-22', '2015-10-23', '2015-10-26',\n               '2015-10-27', '2015-10-28',\n               ...\n               '2020-09-29', '2020-09-30', '2020-10-01', '2020-10-02',\n               '2020-10-05', '2020-10-06', '2020-10-07', '2020-10-08',\n               '2020-10-09', '2020-10-13'],\n              dtype='datetime64[ns]', name='Date', length=1241, freq=None)\n"
     ]
    }
   ],
   "source": [
    "print(vale3.index)"
   ]
  },
  {
   "cell_type": "code",
   "execution_count": 13,
   "metadata": {},
   "outputs": [
    {
     "output_type": "execute_result",
     "data": {
      "text/plain": [
       "                 High        Low       Open      Close      Volume  Adj Close\n",
       "Date                                                                         \n",
       "2018-01-02  41.740002  40.439999  40.439999  41.720001  14156500.0  37.493320\n",
       "2018-01-03  41.880001  41.299999  41.830002  41.470001  12744200.0  37.268650\n",
       "2018-01-04  42.369999  41.520000  41.810001  41.639999  18433000.0  37.421429\n",
       "2018-01-05  42.290001  41.310001  41.570000  42.290001  15251300.0  38.005577\n",
       "2018-01-08  43.230000  42.400002  42.400002  43.230000  14542800.0  38.850346\n",
       "2018-01-09  43.750000  42.930000  43.580002  43.070000  15986200.0  38.706554\n",
       "2018-01-10  42.950001  42.419998  42.740002  42.470001  12149500.0  38.167339\n",
       "2018-01-11  43.299999  42.599998  42.599998  43.299999  10236300.0  38.913254\n",
       "2018-01-12  43.660000  42.750000  42.950001  43.549999  15014300.0  39.137920\n",
       "2018-01-15  43.720001  43.270000  43.500000  43.470001   7253400.0  39.066032"
      ],
      "text/html": "<div>\n<style scoped>\n    .dataframe tbody tr th:only-of-type {\n        vertical-align: middle;\n    }\n\n    .dataframe tbody tr th {\n        vertical-align: top;\n    }\n\n    .dataframe thead th {\n        text-align: right;\n    }\n</style>\n<table border=\"1\" class=\"dataframe\">\n  <thead>\n    <tr style=\"text-align: right;\">\n      <th></th>\n      <th>High</th>\n      <th>Low</th>\n      <th>Open</th>\n      <th>Close</th>\n      <th>Volume</th>\n      <th>Adj Close</th>\n    </tr>\n    <tr>\n      <th>Date</th>\n      <th></th>\n      <th></th>\n      <th></th>\n      <th></th>\n      <th></th>\n      <th></th>\n    </tr>\n  </thead>\n  <tbody>\n    <tr>\n      <td>2018-01-02</td>\n      <td>41.740002</td>\n      <td>40.439999</td>\n      <td>40.439999</td>\n      <td>41.720001</td>\n      <td>14156500.0</td>\n      <td>37.493320</td>\n    </tr>\n    <tr>\n      <td>2018-01-03</td>\n      <td>41.880001</td>\n      <td>41.299999</td>\n      <td>41.830002</td>\n      <td>41.470001</td>\n      <td>12744200.0</td>\n      <td>37.268650</td>\n    </tr>\n    <tr>\n      <td>2018-01-04</td>\n      <td>42.369999</td>\n      <td>41.520000</td>\n      <td>41.810001</td>\n      <td>41.639999</td>\n      <td>18433000.0</td>\n      <td>37.421429</td>\n    </tr>\n    <tr>\n      <td>2018-01-05</td>\n      <td>42.290001</td>\n      <td>41.310001</td>\n      <td>41.570000</td>\n      <td>42.290001</td>\n      <td>15251300.0</td>\n      <td>38.005577</td>\n    </tr>\n    <tr>\n      <td>2018-01-08</td>\n      <td>43.230000</td>\n      <td>42.400002</td>\n      <td>42.400002</td>\n      <td>43.230000</td>\n      <td>14542800.0</td>\n      <td>38.850346</td>\n    </tr>\n    <tr>\n      <td>2018-01-09</td>\n      <td>43.750000</td>\n      <td>42.930000</td>\n      <td>43.580002</td>\n      <td>43.070000</td>\n      <td>15986200.0</td>\n      <td>38.706554</td>\n    </tr>\n    <tr>\n      <td>2018-01-10</td>\n      <td>42.950001</td>\n      <td>42.419998</td>\n      <td>42.740002</td>\n      <td>42.470001</td>\n      <td>12149500.0</td>\n      <td>38.167339</td>\n    </tr>\n    <tr>\n      <td>2018-01-11</td>\n      <td>43.299999</td>\n      <td>42.599998</td>\n      <td>42.599998</td>\n      <td>43.299999</td>\n      <td>10236300.0</td>\n      <td>38.913254</td>\n    </tr>\n    <tr>\n      <td>2018-01-12</td>\n      <td>43.660000</td>\n      <td>42.750000</td>\n      <td>42.950001</td>\n      <td>43.549999</td>\n      <td>15014300.0</td>\n      <td>39.137920</td>\n    </tr>\n    <tr>\n      <td>2018-01-15</td>\n      <td>43.720001</td>\n      <td>43.270000</td>\n      <td>43.500000</td>\n      <td>43.470001</td>\n      <td>7253400.0</td>\n      <td>39.066032</td>\n    </tr>\n  </tbody>\n</table>\n</div>"
     },
     "metadata": {},
     "execution_count": 13
    }
   ],
   "source": [
    "vale3['2018-01-01':].head(10)"
   ]
  },
  {
   "cell_type": "code",
   "execution_count": 24,
   "metadata": {},
   "outputs": [
    {
     "output_type": "display_data",
     "data": {
      "text/plain": "Date\n2015-10-15    0.583238\n2015-10-16   -2.332983\n2015-10-19   -3.313420\n2015-10-20   -1.620106\n2015-10-21    2.784090\n2015-10-22    1.703294\n2015-10-23   -3.376621\n2015-10-26   -3.719669\n2015-10-27   -4.379555\n2015-10-28   -1.720053\ndtype: float64"
     },
     "metadata": {}
    }
   ],
   "source": [
    "pct_c = (vale3.Close / vale3.Open).apply(lambda x:x-1)*100\n",
    "display(pct_c.head(10))"
   ]
  },
  {
   "cell_type": "code",
   "execution_count": 22,
   "metadata": {},
   "outputs": [
    {
     "output_type": "display_data",
     "data": {
      "text/plain": "Date\n2020-09-29   -1.781736\n2020-09-30   -0.900900\n2020-10-01    0.564963\n2020-10-02    0.563700\n2020-10-05    0.335943\n2020-10-06   -0.773488\n2020-10-07   -1.111115\n2020-10-08    4.713806\n2020-10-09    0.862068\n2020-10-13   -0.851063\ndtype: float64"
     },
     "metadata": {}
    }
   ],
   "source": [
    "# Variação do fechamento no dia em relação a um intervalo de tempo no tail.\n",
    "pct_c = (itsa4.Close / itsa4.Open).apply(lambda x:x-1)*100\n",
    "display(pct_c.tail(10))"
   ]
  },
  {
   "cell_type": "code",
   "execution_count": 23,
   "metadata": {},
   "outputs": [
    {
     "output_type": "display_data",
     "data": {
      "text/plain": "Date\n2020-09-17   -0.583652\n2020-09-18   -0.584799\n2020-09-21    0.396039\n2020-09-22    0.395257\n2020-09-23   -1.377947\n2020-09-24   -0.398406\n2020-09-25    0.000000\n2020-09-28   -1.571708\n2020-09-29    0.000000\n2020-09-30   -0.597614\ndtype: float64"
     },
     "metadata": {}
    }
   ],
   "source": [
    "pct_c = (bees3.Close / bees3.Open).apply(lambda x:x-1)*100\n",
    "display(pct_c.tail(10))"
   ]
  },
  {
   "cell_type": "code",
   "execution_count": 25,
   "metadata": {},
   "outputs": [
    {
     "output_type": "display_data",
     "data": {
      "text/plain": "Date\n2020-09-17   -2.183903\n2020-09-18   -4.124920\n2020-09-21    1.130655\n2020-09-22    3.086420\n2020-09-23   -1.857408\n2020-09-24    0.911852\n2020-09-25    0.548447\n2020-09-28   -5.649036\n2020-09-29    0.190838\n2020-09-30    1.706703\ndtype: float64"
     },
     "metadata": {}
    }
   ],
   "source": [
    "pct_c = (mrve3.Close / mrve3.Open).apply(lambda x:x-1)*100\n",
    "display(pct_c.tail(10))"
   ]
  },
  {
   "cell_type": "code",
   "execution_count": 31,
   "metadata": {},
   "outputs": [],
   "source": [
    "daily_log_returns = np.log(vale3.Close.pct_change()+1)"
   ]
  },
  {
   "cell_type": "code",
   "execution_count": 39,
   "metadata": {},
   "outputs": [
    {
     "output_type": "stream",
     "name": "stdout",
     "text": [
      "Collecting plotly\n  Downloading https://files.pythonhosted.org/packages/68/47/cec583df9ffb6142b84698c1be2124ef8f786f1e9a4307fae331377ccddc/plotly-4.11.0-py2.py3-none-any.whl (13.1MB)\nCollecting retrying>=1.3.3 (from plotly)\n  Downloading https://files.pythonhosted.org/packages/44/ef/beae4b4ef80902f22e3af073397f079c96969c69b2c7d52a57ea9ae61c9d/retrying-1.3.3.tar.gz\nRequirement already satisfied: six in c:\\users\\kioolz\\anaconda3\\lib\\site-packages (from plotly) (1.12.0)\nBuilding wheels for collected packages: retrying\n  Building wheel for retrying (setup.py): started\n  Building wheel for retrying (setup.py): finished with status 'done'\n  Created wheel for retrying: filename=retrying-1.3.3-cp37-none-any.whl size=11435 sha256=f8d43cbe4cea83a82a9c3a7165d0df3aa162c6b0a4ad9ed8fdbc7a1a236c3fb0\n  Stored in directory: C:\\Users\\kioolz\\AppData\\Local\\pip\\Cache\\wheels\\d7\\a9\\33\\acc7b709e2a35caa7d4cae442f6fe6fbf2c43f80823d46460c\nSuccessfully built retrying\nInstalling collected packages: retrying, plotly\nSuccessfully installed plotly-4.11.0 retrying-1.3.3\n"
     ]
    }
   ],
   "source": [
    "!pip install plotly"
   ]
  },
  {
   "cell_type": "code",
   "execution_count": 52,
   "metadata": {},
   "outputs": [],
   "source": []
  },
  {
   "cell_type": "code",
   "execution_count": 77,
   "metadata": {},
   "outputs": [
    {
     "output_type": "error",
     "ename": "AttributeError",
     "evalue": "module 'plotly' has no attribute 'sign_in'",
     "traceback": [
      "\u001b[1;31m---------------------------------------------------------------------------\u001b[0m",
      "\u001b[1;31mAttributeError\u001b[0m                            Traceback (most recent call last)",
      "\u001b[1;32m<ipython-input-77-d18219e33ae5>\u001b[0m in \u001b[0;36m<module>\u001b[1;34m\u001b[0m\n\u001b[0;32m      3\u001b[0m \u001b[0mplotly_username\u001b[0m \u001b[1;33m=\u001b[0m\u001b[1;34m\"username\"\u001b[0m\u001b[1;33m\u001b[0m\u001b[1;33m\u001b[0m\u001b[0m\n\u001b[0;32m      4\u001b[0m \u001b[0mplotly_key\u001b[0m \u001b[1;33m=\u001b[0m \u001b[1;34m\"api_key\"\u001b[0m\u001b[1;33m\u001b[0m\u001b[1;33m\u001b[0m\u001b[0m\n\u001b[1;32m----> 5\u001b[1;33m \u001b[0mpy\u001b[0m\u001b[1;33m.\u001b[0m\u001b[0msign_in\u001b[0m \u001b[1;33m(\u001b[0m\u001b[0mplotly_username\u001b[0m\u001b[1;33m,\u001b[0m \u001b[0mplotly_key\u001b[0m\u001b[1;33m)\u001b[0m\u001b[1;33m\u001b[0m\u001b[1;33m\u001b[0m\u001b[0m\n\u001b[0m\u001b[0;32m      6\u001b[0m \u001b[1;33m\u001b[0m\u001b[0m\n\u001b[0;32m      7\u001b[0m \u001b[1;33m\u001b[0m\u001b[0m\n",
      "\u001b[1;32m~\\Anaconda3\\lib\\site-packages\\_plotly_utils\\importers.py\u001b[0m in \u001b[0;36m__getattr__\u001b[1;34m(import_name)\u001b[0m\n\u001b[0;32m     39\u001b[0m         raise AttributeError(\n\u001b[0;32m     40\u001b[0m             \"module {__name__!r} has no attribute {name!r}\".format(\n\u001b[1;32m---> 41\u001b[1;33m                 \u001b[0mname\u001b[0m\u001b[1;33m=\u001b[0m\u001b[0mimport_name\u001b[0m\u001b[1;33m,\u001b[0m \u001b[0m__name__\u001b[0m\u001b[1;33m=\u001b[0m\u001b[0mparent_name\u001b[0m\u001b[1;33m\u001b[0m\u001b[1;33m\u001b[0m\u001b[0m\n\u001b[0m\u001b[0;32m     42\u001b[0m             )\n\u001b[0;32m     43\u001b[0m         )\n",
      "\u001b[1;31mAttributeError\u001b[0m: module 'plotly' has no attribute 'sign_in'"
     ]
    }
   ],
   "source": [
    "import plotly as py\n",
    "\n",
    "plotly_username =\"username\"\n",
    "plotly_key = \"api_key\"\n",
    "py.sign_in (plotly_username, plotly_key)\n",
    "\n",
    "\n",
    "data = [go.Histogram(x=daily_log_returns)]\n",
    "py.iplot(data,filename=\"basic histogram\")"
   ]
  },
  {
   "cell_type": "code",
   "execution_count": null,
   "metadata": {},
   "outputs": [],
   "source": [
    "import pandas as pd\n",
    "import numpy as np \n",
    "import plotly.plotly as py \n",
    "import datetime \n",
    "import pandas_datareader as web \n",
    "import plotly.graph_obj as go "
   ]
  },
  {
   "cell_type": "code",
   "execution_count": 81,
   "metadata": {},
   "outputs": [],
   "source": [
    "def get(ticekrs, startdate, enddate): \n",
    "    def data(ticker):\n",
    "        return (pdr.get_data_yahoo(ticker, start=startdate, end=enddate))\n",
    "        datas = map(data,tickers) \n",
    "        return(pd.concat(datas,keys = tickers, names = ['Ticker', 'Date']))"
   ]
  },
  {
   "cell_type": "code",
   "execution_count": 86,
   "metadata": {},
   "outputs": [],
   "source": [
    "tickers= ['AAPL','MSFT','^GSPC']\n",
    "start_date = datetime.datetime(2016,1,1)\n",
    "end_date = datetime.datetime(2018,12,31)\n",
    "all_data = get(tickers, start_date, end_date)"
   ]
  }
 ]
}