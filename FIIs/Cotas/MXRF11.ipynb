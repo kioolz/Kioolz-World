{
 "metadata": {
  "language_info": {
   "codemirror_mode": {
    "name": "ipython",
    "version": 3
   },
   "file_extension": ".py",
   "mimetype": "text/x-python",
   "name": "python",
   "nbconvert_exporter": "python",
   "pygments_lexer": "ipython3",
   "version": "3.7.4-final"
  },
  "orig_nbformat": 2,
  "kernelspec": {
   "name": "python3",
   "display_name": "Python 3",
   "language": "python"
  }
 },
 "nbformat": 4,
 "nbformat_minor": 2,
 "cells": [
  {
   "cell_type": "code",
   "execution_count": 1,
   "metadata": {},
   "outputs": [],
   "source": [
    "import requests\n",
    "from bs4 import BeautifulSoup\n",
    "import pandas as pd\n",
    "\n",
    "# Coletar dados dos FIIs site Funds Explorer\n",
    "\n",
    "page = requests.get('https://www.fundsexplorer.com.br/ranking')\n",
    "soup = BeautifulSoup(page.text, 'html.parser')\n",
    "table = soup.find(\"table\", attrs={\"id\":\"table-ranking\"})\n",
    "\n",
    "# titulo das variaveis\n",
    "title_data = table.thead.find_all(\"th\")\n",
    "\n",
    "# dados dos fundos\n",
    "table_data = table.tbody.find_all(\"td\")\n",
    "\n",
    "# separando apenas dados, retira as tags\n",
    "number_rows = int(len(table_data)/len(title_data))\n",
    "\n",
    "elements_data = [[0]*len(title_data) for i in range(number_rows)]\n",
    "\n",
    "i = 0\n",
    " \n",
    "for x in range(number_rows):\n",
    "    for y in range(len(title_data)):\n",
    "        elements_data[x][y] = table_data[i].getText()\n",
    "        i +=1\n",
    "\n",
    "#criando dataframe\n",
    "\n",
    "title = ['codigo', 'setor', 'preco_atual', 'liquidez_diaria', 'dividendo',\n",
    "           'dividendyield', 'DY(3M)_acumulado', 'DY(6M)_acumulado', \n",
    "           'DY(12M)_acumulado', 'DY(3M)_media', 'DY(6M)_media', \n",
    "           'DY(12M)_media', 'DY_ano', 'variacao_preco', 'rent_periodo', \n",
    "           'rent_acumulada', 'patri_liq', 'VPA', 'P/VPA', 'DY_patri', \n",
    "           'var_patri', 'rent_patri_periodo', 'rent_patri_acumu',\n",
    "           'vacancia_fisica', 'vancancia_financeira', 'quantidade_ativos']\n",
    "\n",
    "data = elements_data\n",
    "df = pd.DataFrame(data)\n",
    "df.columns = title\n",
    "\n",
    "for names in title:\n",
    "    for i in range(len(df['codigo'])):\n",
    "        if (type(df[names][i]) == str):\n",
    "            df[names][i] =df[names][i].replace('.','').replace('R$ ','').replace('%','').replace(',','.')\n",
    "\n",
    "#salvando dataframe\n",
    "df.to_csv('dados_FIIs_FundsExplorer.csv', index=False, encoding='utf-32')"
   ]
  },
  {
   "cell_type": "code",
   "execution_count": 2,
   "metadata": {},
   "outputs": [
    {
     "output_type": "execute_result",
     "data": {
      "text/plain": [
       "     codigo    setor preco_atual liquidez_diaria dividendo dividendyield  \\\n",
       "186  MXRF11  Híbrido       10.63         6005920      0.08          0.75   \n",
       "\n",
       "    DY(3M)_acumulado DY(6M)_acumulado DY(12M)_acumulado DY(3M)_media  ...  \\\n",
       "186             1.99             3.86              8.07         0.66  ...   \n",
       "\n",
       "         patri_liq    VPA P/VPA DY_patri var_patri rent_patri_periodo  \\\n",
       "186  1834274376.56  10.05  1.06      N/A       N/A                N/A   \n",
       "\n",
       "    rent_patri_acumu vacancia_fisica vancancia_financeira quantidade_ativos  \n",
       "186              N/A             N/A                  N/A                 0  \n",
       "\n",
       "[1 rows x 26 columns]"
      ],
      "text/html": "<div>\n<style scoped>\n    .dataframe tbody tr th:only-of-type {\n        vertical-align: middle;\n    }\n\n    .dataframe tbody tr th {\n        vertical-align: top;\n    }\n\n    .dataframe thead th {\n        text-align: right;\n    }\n</style>\n<table border=\"1\" class=\"dataframe\">\n  <thead>\n    <tr style=\"text-align: right;\">\n      <th></th>\n      <th>codigo</th>\n      <th>setor</th>\n      <th>preco_atual</th>\n      <th>liquidez_diaria</th>\n      <th>dividendo</th>\n      <th>dividendyield</th>\n      <th>DY(3M)_acumulado</th>\n      <th>DY(6M)_acumulado</th>\n      <th>DY(12M)_acumulado</th>\n      <th>DY(3M)_media</th>\n      <th>...</th>\n      <th>patri_liq</th>\n      <th>VPA</th>\n      <th>P/VPA</th>\n      <th>DY_patri</th>\n      <th>var_patri</th>\n      <th>rent_patri_periodo</th>\n      <th>rent_patri_acumu</th>\n      <th>vacancia_fisica</th>\n      <th>vancancia_financeira</th>\n      <th>quantidade_ativos</th>\n    </tr>\n  </thead>\n  <tbody>\n    <tr>\n      <td>186</td>\n      <td>MXRF11</td>\n      <td>Híbrido</td>\n      <td>10.63</td>\n      <td>6005920</td>\n      <td>0.08</td>\n      <td>0.75</td>\n      <td>1.99</td>\n      <td>3.86</td>\n      <td>8.07</td>\n      <td>0.66</td>\n      <td>...</td>\n      <td>1834274376.56</td>\n      <td>10.05</td>\n      <td>1.06</td>\n      <td>N/A</td>\n      <td>N/A</td>\n      <td>N/A</td>\n      <td>N/A</td>\n      <td>N/A</td>\n      <td>N/A</td>\n      <td>0</td>\n    </tr>\n  </tbody>\n</table>\n<p>1 rows × 26 columns</p>\n</div>"
     },
     "metadata": {},
     "execution_count": 2
    }
   ],
   "source": [
    "df[df[\"codigo\"] == \"MXRF11\"]"
   ]
  },
  {
   "cell_type": "code",
   "execution_count": 4,
   "metadata": {},
   "outputs": [
    {
     "output_type": "stream",
     "name": "stdout",
     "text": [
      "Este é o valor do provento do último mês:  0.08R$\nEste é o valor do Dividend Yield do último mês:  0.753%\nAtualmente eu tenho 49.00 cotas, que na cotação atual estão avaliadas em  520.87 R$, essas cotas me geram  3.92 R$ por mês, então é esperado que eu receba  47.04 R$ este ano\n"
     ]
    }
   ],
   "source": [
    "#O valor da tabela sai no formato string então fiz uma variável auxiliar para converter o valor em float\n",
    "xd = df[df[\"codigo\"] == \"MXRF11\"].iloc[-1].values[4] #Aqui saí o valor do último provento\n",
    "xp = df[df[\"codigo\"] == \"MXRF11\"].iloc[-1].values[2] #Aqui saí o valor da última cotação\n",
    "#Com isso já dá pra calcular o DY, porém, antes é necessário converter os valores de String para Float\n",
    "xa = float(xd)\n",
    "xb = float(xp)\n",
    "#E com isso definir uma variável auxiliar que me diz o número atual de cotas que eu tenho\n",
    "Cotas = 49\n",
    "print(f'Este é o valor do provento do último mês: {xa: .2f}R$')\n",
    "print(f'Este é o valor do Dividend Yield do último mês: {(xa*100)/xb: .3f}%')\n",
    "print(f'Atualmente eu tenho {Cotas:.2f} cotas, que na cotação atual estão avaliadas em {Cotas*xb: .2f} R$, essas cotas me geram {Cotas*xa: .2f} R$ por mês, então é esperado que eu receba {Cotas*xa*12: .2f} R$ este ano')"
   ]
  },
  {
   "cell_type": "code",
   "execution_count": 5,
   "metadata": {},
   "outputs": [
    {
     "output_type": "stream",
     "name": "stdout",
     "text": [
      "São necessários um total de  138854.38R$ investidos para se alcançar o salário mínimo\n Isso me geraria um total de  13062.50 cotas\n"
     ]
    }
   ],
   "source": [
    "# 2.0.1 - Salário Mínimo em Proventos com base na cotação dada\n",
    "SalarioMinimo = 1045\n",
    "# X é o Valor gasto em (R$) para se obter 1 Salário Mínimo em Cotas com o Preço de HOJE\n",
    "X = (SalarioMinimo*xb)/(xa)\n",
    "print(f'São necessários um total de {X: .2f}R$ investidos para se alcançar o salário mínimo')\n",
    "print(f' Isso me geraria um total de {X/xb: .2f} cotas')\n"
   ]
  },
  {
   "cell_type": "code",
   "execution_count": 6,
   "metadata": {},
   "outputs": [
    {
     "output_type": "stream",
     "name": "stdout",
     "text": [
      " Você precisa ter 94073.4 cotas pra ter 1 milhão de reais nesse ativo\n 94073.4 cotas vão te  gerar o total de  7525.87 reais mensais\n"
     ]
    }
   ],
   "source": [
    "# Quantas cotas é possível comprar com 1 milhão de reias?\n",
    "milhao = 1000000\n",
    "print(f' Você precisa ter {milhao/xb:.1f} cotas pra ter 1 milhão de reais nesse ativo')\n",
    "print(f' {(milhao/xb):.1f} cotas vão te  gerar o total de {(milhao/xb) *(xa): .2f} reais mensais')"
   ]
  },
  {
   "cell_type": "code",
   "execution_count": 7,
   "metadata": {},
   "outputs": [
    {
     "output_type": "execute_result",
     "data": {
      "text/plain": [
       "     codigo    setor preco_atual liquidez_diaria dividendo dividendyield  \\\n",
       "186  MXRF11  Híbrido       10.63         6005920      0.08          0.75   \n",
       "\n",
       "    DY(3M)_acumulado DY(6M)_acumulado DY(12M)_acumulado DY(3M)_media  ...  \\\n",
       "186             1.99             3.86              8.07         0.66  ...   \n",
       "\n",
       "         patri_liq    VPA P/VPA DY_patri var_patri rent_patri_periodo  \\\n",
       "186  1834274376.56  10.05  1.06      N/A       N/A                N/A   \n",
       "\n",
       "    rent_patri_acumu vacancia_fisica vancancia_financeira quantidade_ativos  \n",
       "186              N/A             N/A                  N/A                 0  \n",
       "\n",
       "[1 rows x 26 columns]"
      ],
      "text/html": "<div>\n<style scoped>\n    .dataframe tbody tr th:only-of-type {\n        vertical-align: middle;\n    }\n\n    .dataframe tbody tr th {\n        vertical-align: top;\n    }\n\n    .dataframe thead th {\n        text-align: right;\n    }\n</style>\n<table border=\"1\" class=\"dataframe\">\n  <thead>\n    <tr style=\"text-align: right;\">\n      <th></th>\n      <th>codigo</th>\n      <th>setor</th>\n      <th>preco_atual</th>\n      <th>liquidez_diaria</th>\n      <th>dividendo</th>\n      <th>dividendyield</th>\n      <th>DY(3M)_acumulado</th>\n      <th>DY(6M)_acumulado</th>\n      <th>DY(12M)_acumulado</th>\n      <th>DY(3M)_media</th>\n      <th>...</th>\n      <th>patri_liq</th>\n      <th>VPA</th>\n      <th>P/VPA</th>\n      <th>DY_patri</th>\n      <th>var_patri</th>\n      <th>rent_patri_periodo</th>\n      <th>rent_patri_acumu</th>\n      <th>vacancia_fisica</th>\n      <th>vancancia_financeira</th>\n      <th>quantidade_ativos</th>\n    </tr>\n  </thead>\n  <tbody>\n    <tr>\n      <td>186</td>\n      <td>MXRF11</td>\n      <td>Híbrido</td>\n      <td>10.63</td>\n      <td>6005920</td>\n      <td>0.08</td>\n      <td>0.75</td>\n      <td>1.99</td>\n      <td>3.86</td>\n      <td>8.07</td>\n      <td>0.66</td>\n      <td>...</td>\n      <td>1834274376.56</td>\n      <td>10.05</td>\n      <td>1.06</td>\n      <td>N/A</td>\n      <td>N/A</td>\n      <td>N/A</td>\n      <td>N/A</td>\n      <td>N/A</td>\n      <td>N/A</td>\n      <td>0</td>\n    </tr>\n  </tbody>\n</table>\n<p>1 rows × 26 columns</p>\n</div>"
     },
     "metadata": {},
     "execution_count": 7
    }
   ],
   "source": [
    "\n",
    "df_filtrado = df[df[\"codigo\"] == \"MXRF11\"]\n",
    "df_filtrado = df[df[\"codigo\"] == \"MXRF11\"]\n",
    "df_filtrado\n",
    "df[df['codigo'].str.contains(\"MXRF11\")]"
   ]
  },
  {
   "cell_type": "code",
   "execution_count": 8,
   "metadata": {},
   "outputs": [
    {
     "output_type": "execute_result",
     "data": {
      "text/plain": [
       "     codigo    setor preco_atual liquidez_diaria dividendo dividendyield  \\\n",
       "186  MXRF11  Híbrido       10.63         6005920      0.08          0.75   \n",
       "\n",
       "    DY(3M)_acumulado DY(6M)_acumulado DY(12M)_acumulado DY(3M)_media  ...  \\\n",
       "186             1.99             3.86              8.07         0.66  ...   \n",
       "\n",
       "         patri_liq    VPA P/VPA DY_patri var_patri rent_patri_periodo  \\\n",
       "186  1834274376.56  10.05  1.06      N/A       N/A                N/A   \n",
       "\n",
       "    rent_patri_acumu vacancia_fisica vancancia_financeira quantidade_ativos  \n",
       "186              N/A             N/A                  N/A                 0  \n",
       "\n",
       "[1 rows x 26 columns]"
      ],
      "text/html": "<div>\n<style scoped>\n    .dataframe tbody tr th:only-of-type {\n        vertical-align: middle;\n    }\n\n    .dataframe tbody tr th {\n        vertical-align: top;\n    }\n\n    .dataframe thead th {\n        text-align: right;\n    }\n</style>\n<table border=\"1\" class=\"dataframe\">\n  <thead>\n    <tr style=\"text-align: right;\">\n      <th></th>\n      <th>codigo</th>\n      <th>setor</th>\n      <th>preco_atual</th>\n      <th>liquidez_diaria</th>\n      <th>dividendo</th>\n      <th>dividendyield</th>\n      <th>DY(3M)_acumulado</th>\n      <th>DY(6M)_acumulado</th>\n      <th>DY(12M)_acumulado</th>\n      <th>DY(3M)_media</th>\n      <th>...</th>\n      <th>patri_liq</th>\n      <th>VPA</th>\n      <th>P/VPA</th>\n      <th>DY_patri</th>\n      <th>var_patri</th>\n      <th>rent_patri_periodo</th>\n      <th>rent_patri_acumu</th>\n      <th>vacancia_fisica</th>\n      <th>vancancia_financeira</th>\n      <th>quantidade_ativos</th>\n    </tr>\n  </thead>\n  <tbody>\n    <tr>\n      <td>186</td>\n      <td>MXRF11</td>\n      <td>Híbrido</td>\n      <td>10.63</td>\n      <td>6005920</td>\n      <td>0.08</td>\n      <td>0.75</td>\n      <td>1.99</td>\n      <td>3.86</td>\n      <td>8.07</td>\n      <td>0.66</td>\n      <td>...</td>\n      <td>1834274376.56</td>\n      <td>10.05</td>\n      <td>1.06</td>\n      <td>N/A</td>\n      <td>N/A</td>\n      <td>N/A</td>\n      <td>N/A</td>\n      <td>N/A</td>\n      <td>N/A</td>\n      <td>0</td>\n    </tr>\n  </tbody>\n</table>\n<p>1 rows × 26 columns</p>\n</div>"
     },
     "metadata": {},
     "execution_count": 8
    }
   ],
   "source": [
    "df[df['codigo'].str.contains(\"KNRI11\")]\n",
    "#--------------------------------------#\n",
    "busca = ['MXRF11']\n",
    "df[df['codigo'].isin(busca)]\n",
    "#--------------------------------------#\n",
    "df[df.loc[:,'codigo'] == 'MXRF11']"
   ]
  },
  {
   "cell_type": "code",
   "execution_count": null,
   "metadata": {},
   "outputs": [],
   "source": []
  }
 ]
}