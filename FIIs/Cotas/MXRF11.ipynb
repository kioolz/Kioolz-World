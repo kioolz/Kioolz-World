{
 "metadata": {
  "language_info": {
   "codemirror_mode": {
    "name": "ipython",
    "version": 3
   },
   "file_extension": ".py",
   "mimetype": "text/x-python",
   "name": "python",
   "nbconvert_exporter": "python",
   "pygments_lexer": "ipython3",
   "version": "3.7.4-final"
  },
  "orig_nbformat": 2,
  "kernelspec": {
   "name": "python3",
   "display_name": "Python 3",
   "language": "python"
  }
 },
 "nbformat": 4,
 "nbformat_minor": 2,
 "cells": [
  {
   "cell_type": "code",
   "execution_count": 124,
   "metadata": {},
   "outputs": [
    {
     "output_type": "stream",
     "name": "stdout",
     "text": [
      "[*********************100%***********************]  1 of 1 completed\n",
      "[*********************100%***********************]  1 of 1 completed\n"
     ]
    },
    {
     "output_type": "execute_result",
     "data": {
      "text/plain": [
       "             Open   High    Low  Close  Adj Close    Volume\n",
       "Date                                                       \n",
       "2020-01-31  11.60  11.64  11.10  11.20      11.20   9004152\n",
       "2020-03-01  11.21  11.42   7.71  10.16      10.16  10956600\n",
       "2020-04-01  10.00  10.19   9.11  10.13      10.13   8583248\n",
       "2020-05-01  10.13  10.97   9.81  10.83      10.83   7873646\n",
       "2020-06-01  10.78  11.03  10.70  10.99      10.99  13696253\n",
       "2020-07-01  10.98  11.02  10.80  10.95      10.95  12393338\n",
       "2020-08-01  10.88  10.90  10.35  10.67      10.67  15172874\n",
       "2020-09-01  10.60  10.99  10.20  10.91      10.91  12574300\n",
       "2020-10-01  10.78  10.80  10.33  10.41      10.41  23049865\n",
       "2020-10-31  10.41  10.61  10.39  10.58      10.58  11487587\n",
       "2020-11-30  10.52  10.53  10.16  10.49      10.49  14616092\n",
       "2020-12-31  10.49  10.63  10.40  10.61      10.61  10815129\n",
       "2021-01-29  10.56  10.63  10.55  10.62      10.62    709311"
      ],
      "text/html": "<div>\n<style scoped>\n    .dataframe tbody tr th:only-of-type {\n        vertical-align: middle;\n    }\n\n    .dataframe tbody tr th {\n        vertical-align: top;\n    }\n\n    .dataframe thead th {\n        text-align: right;\n    }\n</style>\n<table border=\"1\" class=\"dataframe\">\n  <thead>\n    <tr style=\"text-align: right;\">\n      <th></th>\n      <th>Open</th>\n      <th>High</th>\n      <th>Low</th>\n      <th>Close</th>\n      <th>Adj Close</th>\n      <th>Volume</th>\n    </tr>\n    <tr>\n      <th>Date</th>\n      <th></th>\n      <th></th>\n      <th></th>\n      <th></th>\n      <th></th>\n      <th></th>\n    </tr>\n  </thead>\n  <tbody>\n    <tr>\n      <td>2020-01-31</td>\n      <td>11.60</td>\n      <td>11.64</td>\n      <td>11.10</td>\n      <td>11.20</td>\n      <td>11.20</td>\n      <td>9004152</td>\n    </tr>\n    <tr>\n      <td>2020-03-01</td>\n      <td>11.21</td>\n      <td>11.42</td>\n      <td>7.71</td>\n      <td>10.16</td>\n      <td>10.16</td>\n      <td>10956600</td>\n    </tr>\n    <tr>\n      <td>2020-04-01</td>\n      <td>10.00</td>\n      <td>10.19</td>\n      <td>9.11</td>\n      <td>10.13</td>\n      <td>10.13</td>\n      <td>8583248</td>\n    </tr>\n    <tr>\n      <td>2020-05-01</td>\n      <td>10.13</td>\n      <td>10.97</td>\n      <td>9.81</td>\n      <td>10.83</td>\n      <td>10.83</td>\n      <td>7873646</td>\n    </tr>\n    <tr>\n      <td>2020-06-01</td>\n      <td>10.78</td>\n      <td>11.03</td>\n      <td>10.70</td>\n      <td>10.99</td>\n      <td>10.99</td>\n      <td>13696253</td>\n    </tr>\n    <tr>\n      <td>2020-07-01</td>\n      <td>10.98</td>\n      <td>11.02</td>\n      <td>10.80</td>\n      <td>10.95</td>\n      <td>10.95</td>\n      <td>12393338</td>\n    </tr>\n    <tr>\n      <td>2020-08-01</td>\n      <td>10.88</td>\n      <td>10.90</td>\n      <td>10.35</td>\n      <td>10.67</td>\n      <td>10.67</td>\n      <td>15172874</td>\n    </tr>\n    <tr>\n      <td>2020-09-01</td>\n      <td>10.60</td>\n      <td>10.99</td>\n      <td>10.20</td>\n      <td>10.91</td>\n      <td>10.91</td>\n      <td>12574300</td>\n    </tr>\n    <tr>\n      <td>2020-10-01</td>\n      <td>10.78</td>\n      <td>10.80</td>\n      <td>10.33</td>\n      <td>10.41</td>\n      <td>10.41</td>\n      <td>23049865</td>\n    </tr>\n    <tr>\n      <td>2020-10-31</td>\n      <td>10.41</td>\n      <td>10.61</td>\n      <td>10.39</td>\n      <td>10.58</td>\n      <td>10.58</td>\n      <td>11487587</td>\n    </tr>\n    <tr>\n      <td>2020-11-30</td>\n      <td>10.52</td>\n      <td>10.53</td>\n      <td>10.16</td>\n      <td>10.49</td>\n      <td>10.49</td>\n      <td>14616092</td>\n    </tr>\n    <tr>\n      <td>2020-12-31</td>\n      <td>10.49</td>\n      <td>10.63</td>\n      <td>10.40</td>\n      <td>10.61</td>\n      <td>10.61</td>\n      <td>10815129</td>\n    </tr>\n    <tr>\n      <td>2021-01-29</td>\n      <td>10.56</td>\n      <td>10.63</td>\n      <td>10.55</td>\n      <td>10.62</td>\n      <td>10.62</td>\n      <td>709311</td>\n    </tr>\n  </tbody>\n</table>\n</div>"
     },
     "metadata": {},
     "execution_count": 124
    }
   ],
   "source": [
    "#-------------------------------------------------------#\n",
    "#Este programa tem como objetivo exibir um DataFrame do fundo imobiliário específico#\n",
    "import numpy as np \n",
    "import pandas as pd\n",
    "import matplotlib.pyplot as plt\n",
    "import datetime\n",
    "import pandas_datareader.data as web\n",
    "import yfinance as yf\n",
    "import fundamentos as fts\n",
    "yf.pdr_override()\n",
    "ibov = web.get_data_yahoo('^BVSP')\n",
    "# 1.0.0 - O Fundo escolhido é o MXRF11, abaixo é o código que extrai as informações do Yahoo Finance e gera uma tabela inicial com as informações.\n",
    "# 1.0.1 - Podemos usar o comando interval dentro do web.getdatayahoo para filtrar as informações seguindo um intervalo específico de tempo\n",
    "# 1.0.2 - Podemos criar uma variável auxiliar chamada today para usar o comando date.today() que nos permite executar o star ou o end usando o dia de hoje como parâmetro de variação.\n",
    "from datetime import date\n",
    "today = date.today()\n",
    "mxrf11 = web.get_data_yahoo('MXRF11.SA', start='2020-02-01', end=today, interval='1mo')\n",
    "type(mxrf11)\n",
    "mxrf11"
   ]
  },
  {
   "cell_type": "code",
   "execution_count": null,
   "metadata": {},
   "outputs": [],
   "source": [
    "#2.0.0 - Cotação\n",
    "mxrf11[\"Close\"].plot()\n",
    "plt.title(\"MXRF11\")\n",
    "plt.xlabel(\"Tempo\")\n",
    "plt.ylabel(\"Cotação\")"
   ]
  },
  {
   "cell_type": "code",
   "execution_count": 125,
   "metadata": {},
   "outputs": [
    {
     "output_type": "stream",
     "name": "stdout",
     "text": [
      "10.619999885559082\n"
     ]
    },
    {
     "output_type": "execute_result",
     "data": {
      "text/plain": [
       "numpy.float64"
      ]
     },
     "metadata": {},
     "execution_count": 125
    }
   ],
   "source": [
    "#3.0.0 - Isolando valores do DataFrame fornecidos pelo YF.\n",
    "# Essa parte serve para isolar o último valor do DF (iloc[-1]) e separando a coluna Close .values[-4] para poder exibir o número como um parâmetro float.\n",
    "x = mxrf11.iloc[-1].values[4]\n",
    "print(x)\n",
    "type(x)"
   ]
  },
  {
   "cell_type": "code",
   "execution_count": null,
   "metadata": {},
   "outputs": [],
   "source": [
    "#4.0.0 - Preenchendo uma lista com os últimos valores da coluna Close\n",
    "xs = []\n",
    "i = -1\n",
    "while not (i==(-5)):\n",
    "    xs.append(mxrf11.iloc[i].values[4])\n",
    "    i=i-1\n",
    "print(xs)\n",
    "type(xs)\n",
    "type(mxrf11) #Conferindo o tipo de dado resgatado pela biblioteca padas_datareader"
   ]
  },
  {
   "cell_type": "code",
   "execution_count": 126,
   "metadata": {},
   "outputs": [
    {
     "output_type": "stream",
     "name": "stdout",
     "text": [
      "Este é o valor do último fechamento : 10.62 R$\nEste é o valor do último provento :0.08R$\nDividend Yield :  0.75%\nAtualmente, eu estou com 46.0 cotas\nIsso tem me dado um total de 3.68 reais por mês\nApenas por curiosidade, essa quantia de cotas me geraria um total de 44.16 reais por ano\nNovamente por curiosidade, essa quantia de cotas me geraria um total de 0.12 reais por dia\n"
     ]
    }
   ],
   "source": [
    "#Dados inseridos manualmente pelo usuário para calcular informações releventes sobre o DY e sobre os proventos recebidos.\n",
    "#Vou usar essas informações para exibir informações na tela sobre o Dividend Yield, sobre os proventos recebidos de forma unitária e sobre a quantidade de proventos que vão ser recebidos a partir de uma quantia X investida\n",
    "# Assim como saber quanto é necessário investir para receber uma quantia Y em provento. Todas essas informações com base nas informações geradas pela tabela\n",
    "# 4.0.0 - O primeiro passo é exibir o máximo de informações para o usuário na tela, através de indexações das variáveis dentro do texto.\n",
    "print(f'Este é o valor do último fechamento : {x:.2f} R$')\n",
    "provento = 0.08\n",
    "print(f'Este é o valor do último provento :{provento :.2f}R$')\n",
    "DY = provento/x\n",
    "print(f'Dividend Yield : {DY*100: .2f}%')\n",
    "# Esta é minha quantidade de cotas\n",
    "Eutenho = 46\n",
    "print(f'Atualmente, eu estou com {Eutenho:.1f} cotas')\n",
    "TotalInvestido = Eutenho*x\n",
    "print(f'Isso tem me dado um total de {Eutenho*Provento:.2f} reais por mês')\n",
    "print(f'Apenas por curiosidade, essa quantia de cotas me geraria um total de {Eutenho*Provento*12:.2f} reais por ano')\n",
    "print(f'Novamente por curiosidade, essa quantia de cotas me geraria um total de {Eutenho*Provento/30:.2f} reais por dia')"
   ]
  },
  {
   "cell_type": "code",
   "execution_count": 133,
   "metadata": {},
   "outputs": [
    {
     "output_type": "stream",
     "name": "stdout",
     "text": [
      "São necessários um total de  11097.90R$ investidos para se alcançar o salário mínimo\nIsso nos dá um total de 13334 cotas\n"
     ]
    }
   ],
   "source": [
    "# 2.0.1 - Salário Mínimo em Proventos com base na cotação dada\n",
    "SalarioMinimo = 1045\n",
    "X = SalarioMinimo*x\n",
    "Xp = X/Provento\n",
    "print(f'São necessários um total de {X: .2f}R$ investidos para se alcançar o salário mínimo')\n",
    "print (f'Isso nos dá um total de {Y * Provento:.0f} cotas')"
   ]
  },
  {
   "cell_type": "code",
   "execution_count": null,
   "metadata": {},
   "outputs": [],
   "source": [
    "# Quantas cotas é possível comprar com 1 milhão de reias?\n",
    "QuantasCotasPra1Milhao=1000000/x\n",
    "print(f' Você precisa ter {QuantasCotasPra1Milhao:.1f} pra ter 1 milhão de reais nesse ativo')\n",
    "print(f' {QuantasCotasPra1Milhao:.1f} cotas vão te gerar o total de {QuantasCotasPra1Milhao*Provento:.2f} reais mensais')"
   ]
  },
  {
   "cell_type": "code",
   "execution_count": null,
   "metadata": {},
   "outputs": [],
   "source": [
    "knri11 = web.get_data_yahoo('KNRI11.SA', start='2020-02-01', end=today)\n",
    "xplg11 = web.get_data_yahoo('xplg11.SA', start='2020-02-01', end=today)\n",
    "bcff11 = web.get_data_yahoo('bcff11.SA', start='2020-02-01', end=today)"
   ]
  },
  {
   "cell_type": "code",
   "execution_count": 134,
   "metadata": {},
   "outputs": [
    {
     "output_type": "stream",
     "name": "stdout",
     "text": [
      "Este foi o último fechamento do KNRI 159.50\nEste foi o último fechamento do XPLG11 121.40\nEste foi o último fechamento do BCF11 92.00\nEsses são os valores dos últimos proventos\nSão necessários um total de  256426.92R$ investidos em KNRI11 para se alcançar o salário mínimo em proventos\nSão necessários um total de  192280.00R$ investidos em BCFF11 para se alcançar o salário mínimo em proventos\nSão necessários um total de  218729.31R$ investidos em XPLG11 para se alcançar o salário mínimo em proventos\nIsso nos dá um total de 13334 cotas\n"
     ]
    }
   ],
   "source": [
    "#As variáveis com terminação p indicam o cálculo do Provento * Fechamento ajustado do último dia.\n",
    "y = knri11.iloc[-1].values[4]\n",
    "Y = SalarioMinimo*y\n",
    "print(f'Este foi o último fechamento do KNRI {y:.2f}')\n",
    "type(y)\n",
    "z = xplg11.iloc[-1].values[4]\n",
    "Z = SalarioMinimo*z\n",
    "print(f'Este foi o último fechamento do XPLG11 {z:.2f}')\n",
    "type(z)\n",
    "w = bcff11.iloc[-1].values[4]\n",
    "W = SalarioMinimo*w\n",
    "Wp = W\n",
    "print(f'Este foi o último fechamento do BCF11 {w:.2f}')\n",
    "type(w)\n",
    "\n",
    "print('Esses são os valores dos últimos proventos')\n",
    "#As variáveis com terminação N indicam o último provento recebido por determinada cota\n",
    "yn = 0.65 \n",
    "wn = 0.50 \n",
    "zn = 0.58\n",
    "# 2.0.1 - Salário Mínimo em Proventos com base na cotação dada\n",
    "SalarioMinimo = 1045\n",
    "ym = x1/yn\n",
    "wm = x2/wn\n",
    "zm = x3/zn \n",
    "print(f'São necessários um total de {ym: .2f}R$ investidos em KNRI11 para se alcançar o salário mínimo em proventos')\n",
    "print(f'São necessários um total de {wm: .2f}R$ investidos em BCFF11 para se alcançar o salário mínimo em proventos')\n",
    "print(f'São necessários um total de {zm: .2f}R$ investidos em XPLG11 para se alcançar o salário mínimo em proventos')\n",
    "print (f'Isso nos dá um total de {Y * Provento:.0f} cotas')"
   ]
  },
  {
   "cell_type": "code",
   "execution_count": 135,
   "metadata": {},
   "outputs": [
    {
     "output_type": "stream",
     "name": "stdout",
     "text": [
      "Este é o valor do último fechamento do KNRI 159.50 R$, do BCFF1192.00 R$ e do XPLG 121.40R$\nEste é o valor do último provento do KNRI :0.65R$ do BCFF11 0.50 e do XPLG 0.58\nDividend Yield do KNRI :  0.41%, do BCFF11 0.54% do XPLG11 0.48%\n"
     ]
    }
   ],
   "source": [
    "# Agora um pequeno comparativo com outros FIIs da carteira\n",
    "print(f'Este é o valor do último fechamento do KNRI {y:.2f} R$, do BCFF11{w:.2f} R$ e do XPLG {z:.2f}R$')\n",
    "print(f'Este é o valor do último provento do KNRI :{yn :.2f}R$ do BCFF11 {wn :.2f} e do XPLG {zn :.2f}')\n",
    "dyknri11 = yn/knri11close\n",
    "dybcff11 = wn/bcff11close\n",
    "dyxplg11 = zn/xplg11close\n",
    "print(f'Dividend Yield do KNRI : {dyknri11*100: .2f}%, do BCFF11 {dybcff11*100:.2f}% do XPLG11 {dyxplg11*100:.2f}%')"
   ]
  },
  {
   "cell_type": "code",
   "execution_count": null,
   "metadata": {},
   "outputs": [],
   "source": []
  }
 ]
}