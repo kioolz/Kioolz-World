{
 "metadata": {
  "language_info": {
   "codemirror_mode": {
    "name": "ipython",
    "version": 3
   },
   "file_extension": ".py",
   "mimetype": "text/x-python",
   "name": "python",
   "nbconvert_exporter": "python",
   "pygments_lexer": "ipython3",
   "version": "3.7.4-final"
  },
  "orig_nbformat": 2,
  "kernelspec": {
   "name": "python3",
   "display_name": "Python 3",
   "language": "python"
  }
 },
 "nbformat": 4,
 "nbformat_minor": 2,
 "cells": [
  {
   "cell_type": "code",
   "execution_count": 1,
   "metadata": {},
   "outputs": [
    {
     "output_type": "stream",
     "name": "stdout",
     "text": [
      "[*********************100%***********************]  1 of 1 completed\n"
     ]
    }
   ],
   "source": [
    "#-------------------------------------------------------#\n",
    "#Este programa tem como objetivo exibir um DataFrame do fundo imobiliário específico#\n",
    "import numpy as np \n",
    "import pandas as pd\n",
    "import matplotlib.pyplot as plt\n",
    "import datetime\n",
    "import pandas_datareader.data as web\n",
    "import yfinance as yf\n",
    "import fundamentos as fts\n",
    "yf.pdr_override()\n",
    "ibov = web.get_data_yahoo('^BVSP')"
   ]
  },
  {
   "cell_type": "code",
   "execution_count": 2,
   "metadata": {},
   "outputs": [
    {
     "output_type": "stream",
     "name": "stdout",
     "text": [
      "[*********************100%***********************]  1 of 1 completed\n"
     ]
    },
    {
     "output_type": "execute_result",
     "data": {
      "text/plain": [
       "             Open   High    Low  Close  Adj Close  Volume\n",
       "Date                                                     \n",
       "2020-02-03  11.60  11.64  11.21  11.31      11.31  729598\n",
       "2020-02-04  11.35  11.47  11.32  11.40      11.40  490045\n",
       "2020-02-05  11.40  11.50  11.40  11.48      11.48  309063\n",
       "2020-02-06  11.48  11.59  11.31  11.32      11.32  495760\n",
       "2020-02-07  11.35  11.45  11.32  11.38      11.38  359155\n",
       "...           ...    ...    ...    ...        ...     ...\n",
       "2021-01-19  10.48  10.52  10.48  10.51      10.51  597158\n",
       "2021-01-20  10.51  10.52  10.49  10.51      10.51  531452\n",
       "2021-01-21  10.51  10.53  10.50  10.51      10.51  416133\n",
       "2021-01-22  10.51  10.52  10.48  10.50      10.50  483832\n",
       "2021-01-26  10.49  10.52  10.46  10.50      10.50  926886\n",
       "\n",
       "[241 rows x 6 columns]"
      ],
      "text/html": "<div>\n<style scoped>\n    .dataframe tbody tr th:only-of-type {\n        vertical-align: middle;\n    }\n\n    .dataframe tbody tr th {\n        vertical-align: top;\n    }\n\n    .dataframe thead th {\n        text-align: right;\n    }\n</style>\n<table border=\"1\" class=\"dataframe\">\n  <thead>\n    <tr style=\"text-align: right;\">\n      <th></th>\n      <th>Open</th>\n      <th>High</th>\n      <th>Low</th>\n      <th>Close</th>\n      <th>Adj Close</th>\n      <th>Volume</th>\n    </tr>\n    <tr>\n      <th>Date</th>\n      <th></th>\n      <th></th>\n      <th></th>\n      <th></th>\n      <th></th>\n      <th></th>\n    </tr>\n  </thead>\n  <tbody>\n    <tr>\n      <td>2020-02-03</td>\n      <td>11.60</td>\n      <td>11.64</td>\n      <td>11.21</td>\n      <td>11.31</td>\n      <td>11.31</td>\n      <td>729598</td>\n    </tr>\n    <tr>\n      <td>2020-02-04</td>\n      <td>11.35</td>\n      <td>11.47</td>\n      <td>11.32</td>\n      <td>11.40</td>\n      <td>11.40</td>\n      <td>490045</td>\n    </tr>\n    <tr>\n      <td>2020-02-05</td>\n      <td>11.40</td>\n      <td>11.50</td>\n      <td>11.40</td>\n      <td>11.48</td>\n      <td>11.48</td>\n      <td>309063</td>\n    </tr>\n    <tr>\n      <td>2020-02-06</td>\n      <td>11.48</td>\n      <td>11.59</td>\n      <td>11.31</td>\n      <td>11.32</td>\n      <td>11.32</td>\n      <td>495760</td>\n    </tr>\n    <tr>\n      <td>2020-02-07</td>\n      <td>11.35</td>\n      <td>11.45</td>\n      <td>11.32</td>\n      <td>11.38</td>\n      <td>11.38</td>\n      <td>359155</td>\n    </tr>\n    <tr>\n      <td>...</td>\n      <td>...</td>\n      <td>...</td>\n      <td>...</td>\n      <td>...</td>\n      <td>...</td>\n      <td>...</td>\n    </tr>\n    <tr>\n      <td>2021-01-19</td>\n      <td>10.48</td>\n      <td>10.52</td>\n      <td>10.48</td>\n      <td>10.51</td>\n      <td>10.51</td>\n      <td>597158</td>\n    </tr>\n    <tr>\n      <td>2021-01-20</td>\n      <td>10.51</td>\n      <td>10.52</td>\n      <td>10.49</td>\n      <td>10.51</td>\n      <td>10.51</td>\n      <td>531452</td>\n    </tr>\n    <tr>\n      <td>2021-01-21</td>\n      <td>10.51</td>\n      <td>10.53</td>\n      <td>10.50</td>\n      <td>10.51</td>\n      <td>10.51</td>\n      <td>416133</td>\n    </tr>\n    <tr>\n      <td>2021-01-22</td>\n      <td>10.51</td>\n      <td>10.52</td>\n      <td>10.48</td>\n      <td>10.50</td>\n      <td>10.50</td>\n      <td>483832</td>\n    </tr>\n    <tr>\n      <td>2021-01-26</td>\n      <td>10.49</td>\n      <td>10.52</td>\n      <td>10.46</td>\n      <td>10.50</td>\n      <td>10.50</td>\n      <td>926886</td>\n    </tr>\n  </tbody>\n</table>\n<p>241 rows × 6 columns</p>\n</div>"
     },
     "metadata": {},
     "execution_count": 2
    }
   ],
   "source": [
    "# 1.0.0 - O Fundo escolhido é o MXRF11, abaixo é o código que extrai as informações do Yahoo Finance e gera uma tabela inicial com as informações.\n",
    "\n",
    "mxrf11 = web.get_data_yahoo('MXRF11.SA', start='2020-02-01', end='2021-01-27')\n",
    "mxrf11"
   ]
  },
  {
   "cell_type": "code",
   "execution_count": 3,
   "metadata": {},
   "outputs": [
    {
     "output_type": "execute_result",
     "data": {
      "text/plain": [
       "pandas.core.frame.DataFrame"
      ]
     },
     "metadata": {},
     "execution_count": 3
    }
   ],
   "source": [
    "type(mxrf11) #Conferindo o tipo de dado resgatado pela biblioteca padas_datareader"
   ]
  },
  {
   "cell_type": "code",
   "execution_count": 4,
   "metadata": {},
   "outputs": [
    {
     "output_type": "stream",
     "name": "stdout",
     "text": [
      "Este é o valor do último fechamento : 10.45 R$\nEste é o valor do último provento :0.07R$\nDividend Yield :  0.67%\n"
     ]
    }
   ],
   "source": [
    "#Dados inseridos manualmente pelo usuário para calcular informações releventes sobre o DY e sobre os proventos recebidos.\n",
    "#Vou usar essas informações para exibir informações na tela sobre o Dividend Yield, sobre os proventos recebidos de forma unitária e sobre a quantidade de proventos que vão ser recebidos a partir de uma quantia X investida\n",
    "# Assim como saber quanto é necessário investir para receber uma quantia Y em provento. Todas essas informações com base nas informações geradas pela tabela\n",
    "# 2.0.0 - O primeiro passo é exibir o máximo de informações para o usuário na tela, através de indexações das variáveis dentro do texto.\n",
    "mxrf11close= 10.45\n",
    "print(f'Este é o valor do último fechamento : {Close:.2f} R$')\n",
    "Provento = 0.07\n",
    "print(f'Este é o valor do último provento :{Provento :.2f}R$')\n",
    "DY = Provento/Close\n",
    "print(f'Dividend Yield : {DY*100: .2f}%')"
   ]
  },
  {
   "cell_type": "code",
   "execution_count": 15,
   "metadata": {},
   "outputs": [
    {
     "output_type": "stream",
     "name": "stdout",
     "text": [
      "Atualmente, eu estou com 41.0 cotas\nIsso tem me dado um total de 2.87 reais por mês\nApenas por curiosidade, essa quantia de cotas me geraria um total de 34.44 reais por ano\n"
     ]
    }
   ],
   "source": [
    "# Esta é minha quantidade de cotas\n",
    "Eutenho = 41\n",
    "print(f'Atualmente, eu estou com {Eutenho:.1f} cotas')\n",
    "TotalInvestido = Eutenho*Close\n",
    "print(f'Isso tem me dado um total de {Eutenho*Provento:.2f} reais por mês')\n",
    "print(f'Apenas por curiosidade, essa quantia de cotas me geraria um total de {Eutenho*Provento*12:.2f} reais por ano')"
   ]
  },
  {
   "cell_type": "code",
   "execution_count": 14,
   "metadata": {},
   "outputs": [
    {
     "output_type": "stream",
     "name": "stdout",
     "text": [
      "São necessários um total de  156003.57R$ investidos para se alcançar o salário mínimo\nIsso nos dá um total de 10920 cotas\n"
     ]
    }
   ],
   "source": [
    "# 2.0.1 - Salário Mínimo em Proventos com base na cotação dada\n",
    "SalarioMinimo = 1045\n",
    "Close = 10.45 \n",
    "X = SalarioMinimo*Close\n",
    "Y = X/Provento\n",
    "print(f'São necessários um total de {Y: .2f}R$ investidos para se alcançar o salário mínimo')\n",
    "print (f'Isso nos dá um total de {Y * Provento:.0f} cotas')"
   ]
  },
  {
   "cell_type": "code",
   "execution_count": 13,
   "metadata": {},
   "outputs": [
    {
     "output_type": "stream",
     "name": "stdout",
     "text": [
      " Você precisa ter 95693.8 pra ter 1 milhão de reais nesse ativo\n 95693.8 vão te gerar o total de 6698.56 reais mensais\n"
     ]
    }
   ],
   "source": [
    "# Quantas cotas é possível comprar com 1 milhão de reias?\n",
    "QuantasCotasPra1Milhao=1000000/Close\n",
    "print(f' Você precisa ter {QuantasCotasPra1Milhao:.1f} pra ter 1 milhão de reais nesse ativo')\n",
    "print(f' {QuantasCotasPra1Milhao:.1f} vão te gerar o total de {QuantasCotasPra1Milhao*Provento:.2f} reais mensais')"
   ]
  },
  {
   "cell_type": "code",
   "execution_count": 26,
   "metadata": {},
   "outputs": [
    {
     "output_type": "stream",
     "name": "stdout",
     "text": [
      "Este é o valor do último fechamento do KNRI 158.90 R$, do BCFF1194.50 R$ e do XPLG 124.00R$\nEste é o valor do último provento do KNRI :0.07R$ do BCFF11 0.07 e do XPLG 0.07\nDividend Yield do KNRI :  0.41%, do BCFF11 0.53% do XPLG11 0.47%\n"
     ]
    }
   ],
   "source": [
    "# Agora um pequeno comparativo com outros FIIs da carteira\n",
    "knri11close = 158.90\n",
    "bcff11close = 94.50\n",
    "xplg11close = 124.00\n",
    "print(f'Este é o valor do último fechamento do KNRI {knri11close:.2f} R$, do BCFF11{bcff11close:.2f} R$ e do XPLG {xplg11close:.2f}R$')\n",
    "proventoknri11 = 0.65\n",
    "proventobcff11 = 0.50\n",
    "proventoxplg11 = 0.58\n",
    "print(f'Este é o valor do último provento do KNRI :{Provento :.2f}R$ do BCFF11 {Provento :.2f} e do XPLG {Provento :.2f}')\n",
    "dyknri11 = proventoknri11/knri11close\n",
    "dybcff11 = proventobcff11/bcff11close\n",
    "dyxplg11 = proventoxplg11/xplg11close\n",
    "print(f'Dividend Yield do KNRI : {dyknri11*100: .2f}%, do BCFF11 {dybcff11*100:.2f}% do XPLG11 {dyxplg11*100:.2f}%')"
   ]
  },
  {
   "cell_type": "code",
   "execution_count": 28,
   "metadata": {},
   "outputs": [
    {
     "output_type": "stream",
     "name": "stdout",
     "text": [
      "São necessários um total de  156003.57R$ investidos para se alcançar o salário mínimo\nIsso nos dá um total de 10920 cotas\n"
     ]
    }
   ],
   "source": [
    "# 2.0.1 - Salário Mínimo em Proventos com base na cotação dada\n",
    "SalarioMinimo = 1045\n",
    "knri11close = 158.90\n",
    "bcff11close = 94.50\n",
    "xplg11close = 124.00\n",
    "proventoknri11 = 0.65\n",
    "proventobcff11 = 0.50\n",
    "proventoxplg11 = 0.58\n",
    "x1 = SalarioMinimo*knri11close\n",
    "x2 = SalarioMinimo*bcff11close\n",
    "x3 = SalarioMinimo*xplg11close\n",
    "y1 = x1/Provento\n",
    "y2 = x2/Provento\n",
    "y3 = x3/Provento\n",
    "print(f'São necessários um total de {Y: .2f}R$ investidos para se alcançar o salário mínimo')\n",
    "print (f'Isso nos dá um total de {Y * Provento:.0f} cotas')"
   ]
  },
  {
   "cell_type": "code",
   "execution_count": null,
   "metadata": {},
   "outputs": [],
   "source": []
  }
 ]
}