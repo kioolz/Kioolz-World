{
 "metadata": {
  "language_info": {
   "codemirror_mode": {
    "name": "ipython",
    "version": 3
   },
   "file_extension": ".py",
   "mimetype": "text/x-python",
   "name": "python",
   "nbconvert_exporter": "python",
   "pygments_lexer": "ipython3",
   "version": "3.7.4-final"
  },
  "orig_nbformat": 2,
  "kernelspec": {
   "name": "python3",
   "display_name": "Python 3",
   "language": "python"
  }
 },
 "nbformat": 4,
 "nbformat_minor": 2,
 "cells": [
  {
   "cell_type": "code",
   "execution_count": 5,
   "metadata": {},
   "outputs": [],
   "source": [
    "import requests\n",
    "from bs4 import BeautifulSoup\n",
    "import pandas as pd\n",
    "\n",
    "# Coletar dados dos FIIs site Funds Explorer\n",
    "\n",
    "page = requests.get('https://www.fundsexplorer.com.br/ranking')\n",
    "soup = BeautifulSoup(page.text, 'html.parser')\n",
    "table = soup.find(\"table\", attrs={\"id\":\"table-ranking\"})\n",
    "\n",
    "# titulo das variaveis\n",
    "title_data = table.thead.find_all(\"th\")\n",
    "\n",
    "# dados dos fundos\n",
    "table_data = table.tbody.find_all(\"td\")\n",
    "\n",
    "# separando apenas dados, retira as tags\n",
    "number_rows = int(len(table_data)/len(title_data))\n",
    "\n",
    "elements_data = [[0]*len(title_data) for i in range(number_rows)]\n",
    "\n",
    "i = 0\n",
    " \n",
    "for x in range(number_rows):\n",
    "    for y in range(len(title_data)):\n",
    "        elements_data[x][y] = table_data[i].getText()\n",
    "        i +=1\n",
    "\n",
    "#criando dataframe\n",
    "\n",
    "title = ['codigo', 'setor', 'preco_atual', 'liquidez_diaria', 'dividendo',\n",
    "           'dividendyield', 'DY(3M)_acumulado', 'DY(6M)_acumulado', \n",
    "           'DY(12M)_acumulado', 'DY(3M)_media', 'DY(6M)_media', \n",
    "           'DY(12M)_media', 'DY_ano', 'variacao_preco', 'rent_periodo', \n",
    "           'rent_acumulada', 'patri_liq', 'VPA', 'P/VPA', 'DY_patri', \n",
    "           'var_patri', 'rent_patri_periodo', 'rent_patri_acumu',\n",
    "           'vacancia_fisica', 'vancancia_financeira', 'quantidade_ativos']\n",
    "\n",
    "data = elements_data\n",
    "df = pd.DataFrame(data)\n",
    "df.columns = title\n",
    "\n",
    "for names in title:\n",
    "    for i in range(len(df['codigo'])):\n",
    "        if (type(df[names][i]) == str):\n",
    "            df[names][i] =df[names][i].replace('.','').replace('R$ ','').replace('%','').replace(',','.')\n",
    "\n",
    "#salvando dataframe\n",
    "df.to_csv('dados_FIIs_FundsExplorer.csv', index=False, encoding='utf-32')"
   ]
  },
  {
   "cell_type": "code",
   "execution_count": 6,
   "metadata": {},
   "outputs": [
    {
     "output_type": "execute_result",
     "data": {
      "text/plain": [
       "     codigo               setor preco_atual liquidez_diaria dividendo  \\\n",
       "0    FIVN11           Shoppings        4.50           36650      0.00   \n",
       "1    BZLI11   Títulos e Val Mob       15.39              50      0.00   \n",
       "2    XTED11  Lajes Corporativas        7.12            9510      0.00   \n",
       "3    ALMI11  Lajes Corporativas     1359.50            1010      0.00   \n",
       "4    DOMC11  Lajes Corporativas      439.00             420      0.00   \n",
       "..      ...                 ...         ...             ...       ...   \n",
       "204  THRA11  Lajes Corporativas      132.00           12970      0.42   \n",
       "205  TORD11              Outros       11.99          600210      0.16   \n",
       "206  BMLC11  Lajes Corporativas       95.49            2530      0.55   \n",
       "207  RBRP11              Outros       98.19          317420      0.52   \n",
       "208  DMAC11         Residencial      107.90            8890      0.93   \n",
       "\n",
       "    dividendyield DY(3M)_acumulado DY(6M)_acumulado DY(12M)_acumulado  \\\n",
       "0            0.00             0.00             0.00              0.00   \n",
       "1            0.00             0.00             0.00              0.00   \n",
       "2            0.00             0.00             0.00              0.00   \n",
       "3            0.00             0.00             0.00              0.00   \n",
       "4            0.00             0.00             0.00              0.00   \n",
       "..            ...              ...              ...               ...   \n",
       "204          0.32             1.17             2.43              5.08   \n",
       "205          1.33             3.65             6.98              0.00   \n",
       "206          0.58             1.99             3.79              7.38   \n",
       "207          0.53             1.71             3.56              6.73   \n",
       "208          0.86             3.04             5.09              9.64   \n",
       "\n",
       "    DY(3M)_media  ...     patri_liq      VPA P/VPA DY_patri var_patri  \\\n",
       "0           0.00  ...   67073539.56     7.13  0.63      N/A       N/A   \n",
       "1           0.00  ...  431537173.46    11.71  1.31      N/A       N/A   \n",
       "2           0.00  ...   26976019.49    15.05  0.47      N/A       N/A   \n",
       "3           0.00  ...  223277514.45  2008.31  0.68      N/A       N/A   \n",
       "4           0.00  ...  263586942.55  1078.59  0.41      N/A       N/A   \n",
       "..           ...  ...           ...      ...   ...      ...       ...   \n",
       "204         0.39  ...  170593083.10   115.83  1.14      N/A       N/A   \n",
       "205         1.22  ...   82055220.74    10.46  1.15      N/A       N/A   \n",
       "206         0.66  ...   95126158.88    95.28  1.00      N/A       N/A   \n",
       "207         0.57  ...  756027656.76    88.40  1.11      N/A       N/A   \n",
       "208         1.01  ...   44106818.77   282.54  0.38     0.65    -13.00   \n",
       "\n",
       "    rent_patri_periodo rent_patri_acumu vacancia_fisica vancancia_financeira  \\\n",
       "0                  N/A              N/A           56.00                  N/A   \n",
       "1                  N/A              N/A             N/A                  N/A   \n",
       "2                  N/A              N/A          100.00               100.00   \n",
       "3                  N/A              N/A           68.15                  N/A   \n",
       "4                  N/A              N/A           23.44                  N/A   \n",
       "..                 ...              ...             ...                  ...   \n",
       "204                N/A              N/A            9.81                  N/A   \n",
       "205                N/A              N/A             N/A                  N/A   \n",
       "206                N/A              N/A            1.70                  N/A   \n",
       "207                N/A              N/A            7.00                 8.00   \n",
       "208             -12.44           -59.86             N/A                  N/A   \n",
       "\n",
       "    quantidade_ativos  \n",
       "0                   1  \n",
       "1                   0  \n",
       "2                   1  \n",
       "3                   1  \n",
       "4                   1  \n",
       "..                ...  \n",
       "204                 1  \n",
       "205                 0  \n",
       "206                 2  \n",
       "207                15  \n",
       "208                 0  \n",
       "\n",
       "[209 rows x 26 columns]"
      ],
      "text/html": "<div>\n<style scoped>\n    .dataframe tbody tr th:only-of-type {\n        vertical-align: middle;\n    }\n\n    .dataframe tbody tr th {\n        vertical-align: top;\n    }\n\n    .dataframe thead th {\n        text-align: right;\n    }\n</style>\n<table border=\"1\" class=\"dataframe\">\n  <thead>\n    <tr style=\"text-align: right;\">\n      <th></th>\n      <th>codigo</th>\n      <th>setor</th>\n      <th>preco_atual</th>\n      <th>liquidez_diaria</th>\n      <th>dividendo</th>\n      <th>dividendyield</th>\n      <th>DY(3M)_acumulado</th>\n      <th>DY(6M)_acumulado</th>\n      <th>DY(12M)_acumulado</th>\n      <th>DY(3M)_media</th>\n      <th>...</th>\n      <th>patri_liq</th>\n      <th>VPA</th>\n      <th>P/VPA</th>\n      <th>DY_patri</th>\n      <th>var_patri</th>\n      <th>rent_patri_periodo</th>\n      <th>rent_patri_acumu</th>\n      <th>vacancia_fisica</th>\n      <th>vancancia_financeira</th>\n      <th>quantidade_ativos</th>\n    </tr>\n  </thead>\n  <tbody>\n    <tr>\n      <td>0</td>\n      <td>FIVN11</td>\n      <td>Shoppings</td>\n      <td>4.50</td>\n      <td>36650</td>\n      <td>0.00</td>\n      <td>0.00</td>\n      <td>0.00</td>\n      <td>0.00</td>\n      <td>0.00</td>\n      <td>0.00</td>\n      <td>...</td>\n      <td>67073539.56</td>\n      <td>7.13</td>\n      <td>0.63</td>\n      <td>N/A</td>\n      <td>N/A</td>\n      <td>N/A</td>\n      <td>N/A</td>\n      <td>56.00</td>\n      <td>N/A</td>\n      <td>1</td>\n    </tr>\n    <tr>\n      <td>1</td>\n      <td>BZLI11</td>\n      <td>Títulos e Val Mob</td>\n      <td>15.39</td>\n      <td>50</td>\n      <td>0.00</td>\n      <td>0.00</td>\n      <td>0.00</td>\n      <td>0.00</td>\n      <td>0.00</td>\n      <td>0.00</td>\n      <td>...</td>\n      <td>431537173.46</td>\n      <td>11.71</td>\n      <td>1.31</td>\n      <td>N/A</td>\n      <td>N/A</td>\n      <td>N/A</td>\n      <td>N/A</td>\n      <td>N/A</td>\n      <td>N/A</td>\n      <td>0</td>\n    </tr>\n    <tr>\n      <td>2</td>\n      <td>XTED11</td>\n      <td>Lajes Corporativas</td>\n      <td>7.12</td>\n      <td>9510</td>\n      <td>0.00</td>\n      <td>0.00</td>\n      <td>0.00</td>\n      <td>0.00</td>\n      <td>0.00</td>\n      <td>0.00</td>\n      <td>...</td>\n      <td>26976019.49</td>\n      <td>15.05</td>\n      <td>0.47</td>\n      <td>N/A</td>\n      <td>N/A</td>\n      <td>N/A</td>\n      <td>N/A</td>\n      <td>100.00</td>\n      <td>100.00</td>\n      <td>1</td>\n    </tr>\n    <tr>\n      <td>3</td>\n      <td>ALMI11</td>\n      <td>Lajes Corporativas</td>\n      <td>1359.50</td>\n      <td>1010</td>\n      <td>0.00</td>\n      <td>0.00</td>\n      <td>0.00</td>\n      <td>0.00</td>\n      <td>0.00</td>\n      <td>0.00</td>\n      <td>...</td>\n      <td>223277514.45</td>\n      <td>2008.31</td>\n      <td>0.68</td>\n      <td>N/A</td>\n      <td>N/A</td>\n      <td>N/A</td>\n      <td>N/A</td>\n      <td>68.15</td>\n      <td>N/A</td>\n      <td>1</td>\n    </tr>\n    <tr>\n      <td>4</td>\n      <td>DOMC11</td>\n      <td>Lajes Corporativas</td>\n      <td>439.00</td>\n      <td>420</td>\n      <td>0.00</td>\n      <td>0.00</td>\n      <td>0.00</td>\n      <td>0.00</td>\n      <td>0.00</td>\n      <td>0.00</td>\n      <td>...</td>\n      <td>263586942.55</td>\n      <td>1078.59</td>\n      <td>0.41</td>\n      <td>N/A</td>\n      <td>N/A</td>\n      <td>N/A</td>\n      <td>N/A</td>\n      <td>23.44</td>\n      <td>N/A</td>\n      <td>1</td>\n    </tr>\n    <tr>\n      <td>...</td>\n      <td>...</td>\n      <td>...</td>\n      <td>...</td>\n      <td>...</td>\n      <td>...</td>\n      <td>...</td>\n      <td>...</td>\n      <td>...</td>\n      <td>...</td>\n      <td>...</td>\n      <td>...</td>\n      <td>...</td>\n      <td>...</td>\n      <td>...</td>\n      <td>...</td>\n      <td>...</td>\n      <td>...</td>\n      <td>...</td>\n      <td>...</td>\n      <td>...</td>\n      <td>...</td>\n    </tr>\n    <tr>\n      <td>204</td>\n      <td>THRA11</td>\n      <td>Lajes Corporativas</td>\n      <td>132.00</td>\n      <td>12970</td>\n      <td>0.42</td>\n      <td>0.32</td>\n      <td>1.17</td>\n      <td>2.43</td>\n      <td>5.08</td>\n      <td>0.39</td>\n      <td>...</td>\n      <td>170593083.10</td>\n      <td>115.83</td>\n      <td>1.14</td>\n      <td>N/A</td>\n      <td>N/A</td>\n      <td>N/A</td>\n      <td>N/A</td>\n      <td>9.81</td>\n      <td>N/A</td>\n      <td>1</td>\n    </tr>\n    <tr>\n      <td>205</td>\n      <td>TORD11</td>\n      <td>Outros</td>\n      <td>11.99</td>\n      <td>600210</td>\n      <td>0.16</td>\n      <td>1.33</td>\n      <td>3.65</td>\n      <td>6.98</td>\n      <td>0.00</td>\n      <td>1.22</td>\n      <td>...</td>\n      <td>82055220.74</td>\n      <td>10.46</td>\n      <td>1.15</td>\n      <td>N/A</td>\n      <td>N/A</td>\n      <td>N/A</td>\n      <td>N/A</td>\n      <td>N/A</td>\n      <td>N/A</td>\n      <td>0</td>\n    </tr>\n    <tr>\n      <td>206</td>\n      <td>BMLC11</td>\n      <td>Lajes Corporativas</td>\n      <td>95.49</td>\n      <td>2530</td>\n      <td>0.55</td>\n      <td>0.58</td>\n      <td>1.99</td>\n      <td>3.79</td>\n      <td>7.38</td>\n      <td>0.66</td>\n      <td>...</td>\n      <td>95126158.88</td>\n      <td>95.28</td>\n      <td>1.00</td>\n      <td>N/A</td>\n      <td>N/A</td>\n      <td>N/A</td>\n      <td>N/A</td>\n      <td>1.70</td>\n      <td>N/A</td>\n      <td>2</td>\n    </tr>\n    <tr>\n      <td>207</td>\n      <td>RBRP11</td>\n      <td>Outros</td>\n      <td>98.19</td>\n      <td>317420</td>\n      <td>0.52</td>\n      <td>0.53</td>\n      <td>1.71</td>\n      <td>3.56</td>\n      <td>6.73</td>\n      <td>0.57</td>\n      <td>...</td>\n      <td>756027656.76</td>\n      <td>88.40</td>\n      <td>1.11</td>\n      <td>N/A</td>\n      <td>N/A</td>\n      <td>N/A</td>\n      <td>N/A</td>\n      <td>7.00</td>\n      <td>8.00</td>\n      <td>15</td>\n    </tr>\n    <tr>\n      <td>208</td>\n      <td>DMAC11</td>\n      <td>Residencial</td>\n      <td>107.90</td>\n      <td>8890</td>\n      <td>0.93</td>\n      <td>0.86</td>\n      <td>3.04</td>\n      <td>5.09</td>\n      <td>9.64</td>\n      <td>1.01</td>\n      <td>...</td>\n      <td>44106818.77</td>\n      <td>282.54</td>\n      <td>0.38</td>\n      <td>0.65</td>\n      <td>-13.00</td>\n      <td>-12.44</td>\n      <td>-59.86</td>\n      <td>N/A</td>\n      <td>N/A</td>\n      <td>0</td>\n    </tr>\n  </tbody>\n</table>\n<p>209 rows × 26 columns</p>\n</div>"
     },
     "metadata": {},
     "execution_count": 6
    }
   ],
   "source": [
    "df"
   ]
  },
  {
   "cell_type": "code",
   "execution_count": 60,
   "metadata": {},
   "outputs": [
    {
     "output_type": "stream",
     "name": "stdout",
     "text": [
      "Este é o valor do provento do último mês:  1.25R$\nEste é o valor do Dividend Yield do último mês:  1.009%\nAtualmente eu tenho 1.00 cotas, que na cotação atual estão avaliadas em  123.84 R$, essas cotas me geram  1.25 R$ por mês, então é esperado que eu receba  15.00 R$ este ano\nSão necessários um total de  103530.24R$ investidos para se alcançar o salário mínimo\n Isso me geraria um total de  836.00 cotas\n Você precisa ter 8074.9 cotas pra ter 1 milhão de reais nesse ativo\n 8074.9 cotas vão te  gerar o total de  10093.67 reais mensais\n"
     ]
    }
   ],
   "source": [
    "df[df[\"codigo\"] == \"HABT11\"]\n",
    "#O valor da tabela sai no formato string então fiz uma variável auxiliar para converter o valor em float\n",
    "xd = df[df[\"codigo\"] == \"HABT11\"].iloc[-1].values[4] #Aqui saí o valor do último provento\n",
    "xp = df[df[\"codigo\"] == \"HABT11\"].iloc[-1].values[2] #Aqui saí o valor da última cotação\n",
    "x3m = df[df[\"codigo\"] == \"HABT11\"].iloc[0].values[9] #DY Médio 3 meses\n",
    "x6m = df[df[\"codigo\"] == \"HABT11\"].iloc[0].values[10] #Dy Médio 6 meses\n",
    "x12m = df[df[\"codigo\"] == \"HABT11\"].iloc[0].values[11] \n",
    "\n",
    "#Com isso já dá pra calcular o DY, porém, antes é necessário converter os valores de String para Float\n",
    "xa = float(xd)\n",
    "xb = float(xp)\n",
    "#E com isso definir uma variável auxiliar que me diz o número atual de cotas que eu tenho\n",
    "Cotas = 1\n",
    "print(f'Este é o valor do provento do último mês: {xa: .2f}R$')\n",
    "print(f'Este é o valor do Dividend Yield do último mês: {(xa*100)/xb: .3f}%')\n",
    "print(f'Atualmente eu tenho {Cotas:.2f} cotas, que na cotação atual estão avaliadas em {Cotas*xb: .2f} R$, essas cotas me geram {Cotas*xa: .2f} R$ por mês, então é esperado que eu receba {Cotas*xa*12: .2f} R$ este ano')\n",
    "# 2.0.1 - Salário Mínimo em Proventos com base na cotação dada\n",
    "SalarioMinimo = 1045\n",
    "# X é o Valor gasto em (R$) para se obter 1 Salário Mínimo em Cotas com o Preço de HOJE\n",
    "X = (SalarioMinimo*xb)/(xa)\n",
    "print(f'São necessários um total de {X: .2f}R$ investidos para se alcançar o salário mínimo')\n",
    "print(f' Isso me geraria um total de {X/xb: .2f} cotas')\n",
    "# Quantas cotas é possível comprar com 1 milhão de reias?\n",
    "milhao = 1000000\n",
    "print(f' Você precisa ter {milhao/xb:.1f} cotas pra ter 1 milhão de reais nesse ativo')\n",
    "print(f' {(milhao/xb):.1f} cotas vão te  gerar o total de {(milhao/xb) *(xa): .2f} reais mensais')"
   ]
  },
  {
   "cell_type": "code",
   "execution_count": 13,
   "metadata": {},
   "outputs": [
    {
     "output_type": "execute_result",
     "data": {
      "text/plain": [
       "     codigo              setor preco_atual liquidez_diaria dividendo  \\\n",
       "119  HABT11  Títulos e Val Mob      123.84          141510      1.25   \n",
       "\n",
       "    dividendyield DY(3M)_acumulado DY(6M)_acumulado DY(12M)_acumulado  \\\n",
       "119          1.00             3.75             6.65             11.25   \n",
       "\n",
       "    DY(3M)_media  ...     patri_liq     VPA P/VPA DY_patri var_patri  \\\n",
       "119         1.25  ...  548014330.07  101.26  1.22      N/A       N/A   \n",
       "\n",
       "    rent_patri_periodo rent_patri_acumu vacancia_fisica vancancia_financeira  \\\n",
       "119                N/A              N/A             N/A                  N/A   \n",
       "\n",
       "    quantidade_ativos  \n",
       "119                 0  \n",
       "\n",
       "[1 rows x 26 columns]"
      ],
      "text/html": "<div>\n<style scoped>\n    .dataframe tbody tr th:only-of-type {\n        vertical-align: middle;\n    }\n\n    .dataframe tbody tr th {\n        vertical-align: top;\n    }\n\n    .dataframe thead th {\n        text-align: right;\n    }\n</style>\n<table border=\"1\" class=\"dataframe\">\n  <thead>\n    <tr style=\"text-align: right;\">\n      <th></th>\n      <th>codigo</th>\n      <th>setor</th>\n      <th>preco_atual</th>\n      <th>liquidez_diaria</th>\n      <th>dividendo</th>\n      <th>dividendyield</th>\n      <th>DY(3M)_acumulado</th>\n      <th>DY(6M)_acumulado</th>\n      <th>DY(12M)_acumulado</th>\n      <th>DY(3M)_media</th>\n      <th>...</th>\n      <th>patri_liq</th>\n      <th>VPA</th>\n      <th>P/VPA</th>\n      <th>DY_patri</th>\n      <th>var_patri</th>\n      <th>rent_patri_periodo</th>\n      <th>rent_patri_acumu</th>\n      <th>vacancia_fisica</th>\n      <th>vancancia_financeira</th>\n      <th>quantidade_ativos</th>\n    </tr>\n  </thead>\n  <tbody>\n    <tr>\n      <td>119</td>\n      <td>HABT11</td>\n      <td>Títulos e Val Mob</td>\n      <td>123.84</td>\n      <td>141510</td>\n      <td>1.25</td>\n      <td>1.00</td>\n      <td>3.75</td>\n      <td>6.65</td>\n      <td>11.25</td>\n      <td>1.25</td>\n      <td>...</td>\n      <td>548014330.07</td>\n      <td>101.26</td>\n      <td>1.22</td>\n      <td>N/A</td>\n      <td>N/A</td>\n      <td>N/A</td>\n      <td>N/A</td>\n      <td>N/A</td>\n      <td>N/A</td>\n      <td>0</td>\n    </tr>\n  </tbody>\n</table>\n<p>1 rows × 26 columns</p>\n</div>"
     },
     "metadata": {},
     "execution_count": 13
    }
   ],
   "source": [
    "x3m = df[df[\"codigo\"] == \"HABT11\"]\n",
    "x3m"
   ]
  },
  {
   "cell_type": "code",
   "execution_count": 36,
   "metadata": {},
   "outputs": [],
   "source": []
  },
  {
   "cell_type": "code",
   "execution_count": 38,
   "metadata": {},
   "outputs": [
    {
     "output_type": "execute_result",
     "data": {
      "text/plain": [
       "'1.11'"
      ]
     },
     "metadata": {},
     "execution_count": 38
    }
   ],
   "source": [
    "x6m"
   ]
  },
  {
   "cell_type": "code",
   "execution_count": 39,
   "metadata": {},
   "outputs": [
    {
     "output_type": "execute_result",
     "data": {
      "text/plain": [
       "'0.94'"
      ]
     },
     "metadata": {},
     "execution_count": 39
    }
   ],
   "source": [
    "x12m"
   ]
  },
  {
   "cell_type": "code",
   "execution_count": null,
   "metadata": {},
   "outputs": [],
   "source": []
  }
 ]
}