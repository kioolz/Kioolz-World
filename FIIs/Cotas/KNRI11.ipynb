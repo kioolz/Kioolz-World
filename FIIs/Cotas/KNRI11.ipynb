{
 "metadata": {
  "language_info": {
   "codemirror_mode": {
    "name": "ipython",
    "version": 3
   },
   "file_extension": ".py",
   "mimetype": "text/x-python",
   "name": "python",
   "nbconvert_exporter": "python",
   "pygments_lexer": "ipython3",
   "version": 3
  },
  "orig_nbformat": 2
 },
 "nbformat": 4,
 "nbformat_minor": 2,
 "cells": [
  {
   "cell_type": "code",
   "execution_count": null,
   "metadata": {},
   "outputs": [],
   "source": [
    "knri11 = web.get_data_yahoo('KNRI11.SA', start='2020-02-01', end=today)\n",
    "xplg11 = web.get_data_yahoo('xplg11.SA', start='2020-02-01', end=today)\n",
    "bcff11 = web.get_data_yahoo('bcff11.SA', start='2020-02-01', end=today)\n",
    "#As variáveis com terminação p indicam o cálculo do Provento * Fechamento ajustado do último dia.\n",
    "y = knri11.iloc[-1].values[4]\n",
    "Y = SalarioMinimo*y\n",
    "print(f'Este foi o último fechamento do KNRI {y:.2f}')\n",
    "type(y)\n",
    "z = xplg11.iloc[-1].values[4]\n",
    "Z = SalarioMinimo*z\n",
    "print(f'Este foi o último fechamento do XPLG11 {z:.2f}')\n",
    "type(z)\n",
    "w = bcff11.iloc[-1].values[4]\n",
    "W = SalarioMinimo*w\n",
    "Wp = W\n",
    "print(f'Este foi o último fechamento do BCF11 {w:.2f}')\n",
    "type(w)\n",
    "\n",
    "print('Esses são os valores dos últimos proventos')\n",
    "#As variáveis com terminação N indicam o último provento recebido por determinada cota\n",
    "yn = 0.65 \n",
    "wn = 0.50 \n",
    "zn = 0.58\n",
    "# 2.0.1 - Salário Mínimo em Proventos com base na cotação dada\n",
    "SalarioMinimo = 1045\n",
    "ym = y/yn\n",
    "wm = w/wn\n",
    "zm = z/zn \n",
    "print(f'São necessários um total de {ym*y: .2f}R$ investidos em KNRI11 para se alcançar o salário mínimo em proventos')\n",
    "print(f'São necessários um total de {wm: .2f}R$ investidos em BCFF11 para se alcançar o salário mínimo em proventos')\n",
    "print(f'São necessários um total de {zm: .2f}R$ investidos em XPLG11 para se alcançar o salário mínimo em proventos')\n",
    "print (f'Isso nos dá um total de {ym:.0f} cotas')\n",
    "# Agora um pequeno comparativo com outros FIIs da carteira\n",
    "print(f'Este é o valor do último fechamento do KNRI {y:.2f} R$, do BCFF11{w:.2f} R$ e do XPLG {z:.2f}R$')\n",
    "print(f'Este é o valor do último provento do KNRI :{yn :.2f}R$ do BCFF11 {wn :.2f} e do XPLG {zn :.2f}')\n",
    "dyknri11 = yn/y\n",
    "dybcff11 = wn/w\n",
    "dyxplg11 = zn/z\n",
    "print(f'Dividend Yield do KNRI : {dyknri11*100: .2f}%, do BCFF11 {dybcff11*100:.2f}% do XPLG11 {dyxplg11*100:.2f}%')"
   ]
  }
 ]
}